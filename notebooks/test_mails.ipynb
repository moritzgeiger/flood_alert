{
 "cells": [
  {
   "cell_type": "code",
   "execution_count": 39,
   "id": "b157e875",
   "metadata": {
    "ExecuteTime": {
     "end_time": "2021-07-17T22:54:36.980287Z",
     "start_time": "2021-07-17T22:54:36.970753Z"
    }
   },
   "outputs": [],
   "source": [
    "import requests\n",
    "from bs4 import BeautifulSoup\n",
    "import pandas as pd\n",
    "import numpy as np\n",
    "import smtplib\n",
    "import ssl\n",
    "import email\n",
    "from dotenv import load_dotenv, find_dotenv\n",
    "import os\n",
    "import datetime as dt\n",
    "from time import sleep\n",
    "import matplotlib.pyplot as plt\n",
    "import plotly.express as px\n",
    "from email.mime.multipart import MIMEMultipart\n",
    "from email.mime.text import MIMEText\n",
    "from email.mime.base import MIMEBase\n",
    "from email.mime.application import MIMEApplication\n",
    "import seaborn as sns\n",
    "import base64\n",
    "from io import BytesIO, StringIO\n",
    "import tempfile\n",
    "from email import encoders\n",
    "from os.path import basename\n",
    "import tempfile"
   ]
  },
  {
   "cell_type": "markdown",
   "id": "83f5877a",
   "metadata": {},
   "source": [
    "# Get flood info"
   ]
  },
  {
   "cell_type": "code",
   "execution_count": 40,
   "id": "8c431636",
   "metadata": {
    "ExecuteTime": {
     "end_time": "2021-07-17T22:54:37.564005Z",
     "start_time": "2021-07-17T22:54:37.558087Z"
    }
   },
   "outputs": [
    {
     "data": {
      "text/plain": [
       "'/var/folders/fg/10s82l0s4xq7b9ld1yn3k2j80000gn/T'"
      ]
     },
     "execution_count": 40,
     "metadata": {},
     "output_type": "execute_result"
    }
   ],
   "source": [
    "tempfile.gettempdir()"
   ]
  },
  {
   "cell_type": "code",
   "execution_count": 68,
   "id": "3b924d35",
   "metadata": {
    "ExecuteTime": {
     "end_time": "2021-07-18T09:29:06.193699Z",
     "start_time": "2021-07-18T09:29:06.178700Z"
    }
   },
   "outputs": [],
   "source": [
    "def table_and_level(base_url, params, checkpoints):\n",
    "    \"\"\"\n",
    "    returns the biggest visible table on a given url destination and the alert level of the tides for several \n",
    "    checkpoints in a dictionary {<checkpoint>:(<df>, <lvl>)}. \n",
    "    takes in base_url (term '___placeholder___' is in the string to insert checkpoint id), \n",
    "    params (using requests)\n",
    "    AND a dictionary of the checkpoint_id (string) as keys and ja list of threshold alert levels as values.\n",
    "    \"\"\"\n",
    "    print('table_and_level() was called.')\n",
    "    results = {}\n",
    "    for checkpoint, level_list in checkpoints.items():\n",
    "        print(f'handling {checkpoint}.')\n",
    "        url = base_url.replace('___placeholder___', checkpoint)\n",
    "        r = requests.get(url, params=params)\n",
    "\n",
    "        # get all tables\n",
    "        tables = pd.read_html(r.content)\n",
    "\n",
    "        # find the biggest table on page\n",
    "        lens = [len(x) for x in tables]\n",
    "        max_ = lens.index(max(lens))\n",
    "\n",
    "        # get table and prepare\n",
    "        df = tables[max_]\n",
    "        df.columns = ['Datum', f'Wasserstand_{checkpoint}']\n",
    "        df['Datum'] = pd.to_datetime(df.Datum, format='%d.%m.%Y %H:%M')\n",
    "        df_recent_lvl = df.loc[0, f'Wasserstand_{checkpoint}']\n",
    "        \n",
    "        # check which level is reached\n",
    "        alert_check = [df_recent_lvl > lvl for lvl in level_list]\n",
    "        \n",
    "        results[checkpoint] = {'df':df, \n",
    "                               'alert_lvl':sum(alert_check),\n",
    "                               'level_list':level_list}\n",
    "    return results"
   ]
  },
  {
   "cell_type": "markdown",
   "id": "605beefa",
   "metadata": {
    "heading_collapsed": true
   },
   "source": [
    "## GKD"
   ]
  },
  {
   "cell_type": "code",
   "execution_count": 45,
   "id": "646c5069",
   "metadata": {
    "ExecuteTime": {
     "end_time": "2021-07-17T22:55:32.812564Z",
     "start_time": "2021-07-17T22:55:32.780695Z"
    },
    "hidden": true
   },
   "outputs": [
    {
     "name": "stdout",
     "output_type": "stream",
     "text": [
      "table_and_level() was called.\n"
     ]
    },
    {
     "ename": "AttributeError",
     "evalue": "'list' object has no attribute 'items'",
     "output_type": "error",
     "traceback": [
      "\u001b[0;31m---------------------------------------------------------------------------\u001b[0m",
      "\u001b[0;31mAttributeError\u001b[0m                            Traceback (most recent call last)",
      "\u001b[0;32m/var/folders/fg/10s82l0s4xq7b9ld1yn3k2j80000gn/T/ipykernel_10085/1481235123.py\u001b[0m in \u001b[0;36m<module>\u001b[0;34m\u001b[0m\n\u001b[1;32m      9\u001b[0m                     250]\n\u001b[1;32m     10\u001b[0m \u001b[0;34m\u001b[0m\u001b[0m\n\u001b[0;32m---> 11\u001b[0;31m gkd_table = table_and_level(base_url=url_gkd, \n\u001b[0m\u001b[1;32m     12\u001b[0m                      \u001b[0mparams\u001b[0m\u001b[0;34m=\u001b[0m\u001b[0mparams_gkd\u001b[0m\u001b[0;34m,\u001b[0m\u001b[0;34m\u001b[0m\u001b[0;34m\u001b[0m\u001b[0m\n\u001b[1;32m     13\u001b[0m                      checkpoints=alert_levels_gkd)\n",
      "\u001b[0;32m/var/folders/fg/10s82l0s4xq7b9ld1yn3k2j80000gn/T/ipykernel_10085/543936654.py\u001b[0m in \u001b[0;36mtable_and_level\u001b[0;34m(base_url, params, checkpoints)\u001b[0m\n\u001b[1;32m      9\u001b[0m     \u001b[0mprint\u001b[0m\u001b[0;34m(\u001b[0m\u001b[0;34m'table_and_level() was called.'\u001b[0m\u001b[0;34m)\u001b[0m\u001b[0;34m\u001b[0m\u001b[0;34m\u001b[0m\u001b[0m\n\u001b[1;32m     10\u001b[0m     \u001b[0mresults\u001b[0m \u001b[0;34m=\u001b[0m \u001b[0;34m{\u001b[0m\u001b[0;34m}\u001b[0m\u001b[0;34m\u001b[0m\u001b[0;34m\u001b[0m\u001b[0m\n\u001b[0;32m---> 11\u001b[0;31m     \u001b[0;32mfor\u001b[0m \u001b[0mcheckpoint\u001b[0m\u001b[0;34m,\u001b[0m \u001b[0mlevel_list\u001b[0m \u001b[0;32min\u001b[0m \u001b[0mcheckpoints\u001b[0m\u001b[0;34m.\u001b[0m\u001b[0mitems\u001b[0m\u001b[0;34m(\u001b[0m\u001b[0;34m)\u001b[0m\u001b[0;34m:\u001b[0m\u001b[0;34m\u001b[0m\u001b[0;34m\u001b[0m\u001b[0m\n\u001b[0m\u001b[1;32m     12\u001b[0m         \u001b[0mprint\u001b[0m\u001b[0;34m(\u001b[0m\u001b[0;34mf'handling {checkpoint}.'\u001b[0m\u001b[0;34m)\u001b[0m\u001b[0;34m\u001b[0m\u001b[0;34m\u001b[0m\u001b[0m\n\u001b[1;32m     13\u001b[0m         \u001b[0murl\u001b[0m \u001b[0;34m=\u001b[0m \u001b[0mbase_url\u001b[0m\u001b[0;34m.\u001b[0m\u001b[0mreplace\u001b[0m\u001b[0;34m(\u001b[0m\u001b[0;34m'___placeholder___'\u001b[0m\u001b[0;34m,\u001b[0m \u001b[0mcheckpoint\u001b[0m\u001b[0;34m)\u001b[0m\u001b[0;34m\u001b[0m\u001b[0;34m\u001b[0m\u001b[0m\n",
      "\u001b[0;31mAttributeError\u001b[0m: 'list' object has no attribute 'items'"
     ]
    }
   ],
   "source": [
    "url_gkd = 'https://www.gkd.bayern.de/de/fluesse/wasserstand/kelheim/mitteldachstetten-24211414/messwerte/tabelle'\n",
    "params_gkd = {\n",
    "#               'addhr':'hr_w_hw',\n",
    "#               'beginn':now\n",
    "             }\n",
    "alert_levels_gkd = [150,\n",
    "                    180,\n",
    "                    220,\n",
    "                    250]\n",
    "\n",
    "gkd_table = table_and_level(base_url=url_gkd, \n",
    "                     params=params_gkd,\n",
    "                     checkpoints=alert_levels_gkd)\n"
   ]
  },
  {
   "cell_type": "code",
   "execution_count": 43,
   "id": "7947e648",
   "metadata": {
    "ExecuteTime": {
     "end_time": "2021-07-17T22:54:38.633421Z",
     "start_time": "2021-07-17T22:54:38.613211Z"
    },
    "hidden": true
   },
   "outputs": [
    {
     "ename": "NameError",
     "evalue": "name 'gkd_table' is not defined",
     "output_type": "error",
     "traceback": [
      "\u001b[0;31m---------------------------------------------------------------------------\u001b[0m",
      "\u001b[0;31mNameError\u001b[0m                                 Traceback (most recent call last)",
      "\u001b[0;32m/var/folders/fg/10s82l0s4xq7b9ld1yn3k2j80000gn/T/ipykernel_10085/4077796267.py\u001b[0m in \u001b[0;36m<module>\u001b[0;34m\u001b[0m\n\u001b[0;32m----> 1\u001b[0;31m \u001b[0mgkd_table\u001b[0m\u001b[0;34m.\u001b[0m\u001b[0mhead\u001b[0m\u001b[0;34m(\u001b[0m\u001b[0;34m)\u001b[0m\u001b[0;34m\u001b[0m\u001b[0;34m\u001b[0m\u001b[0m\n\u001b[0m",
      "\u001b[0;31mNameError\u001b[0m: name 'gkd_table' is not defined"
     ]
    }
   ],
   "source": [
    "gkd_table.head()"
   ]
  },
  {
   "cell_type": "markdown",
   "id": "0cb2e820",
   "metadata": {},
   "source": [
    "## HND"
   ]
  },
  {
   "cell_type": "code",
   "execution_count": 127,
   "id": "59903b5f",
   "metadata": {
    "ExecuteTime": {
     "end_time": "2021-07-18T15:25:17.393466Z",
     "start_time": "2021-07-18T15:25:16.654565Z"
    }
   },
   "outputs": [
    {
     "name": "stdout",
     "output_type": "stream",
     "text": [
      "table_and_level() was called.\n",
      "handling mitteldachstetten-24211414.\n",
      "handling oberhessbach-24211505.\n"
     ]
    }
   ],
   "source": [
    "params = {'methode':'wasserstand',\n",
    "              'setdiskr':'15',\n",
    "          'beginn':'08.07.2021',\n",
    "          'ende':'09.07.2021'\n",
    "             }\n",
    "checkpoints = {'mitteldachstetten-24211414':[150, 180, 220, 250], \n",
    "               'oberhessbach-24211505':[170, 230, 290, 330]}\n",
    "base_url = 'https://www.hnd.bayern.de/pegel/donau_bis_kelheim/___placeholder___/tabelle'\n",
    "\n",
    "hnd_tables = table_and_level(base_url=base_url, \n",
    "                     params=params,\n",
    "                     checkpoints=checkpoints)\n"
   ]
  },
  {
   "cell_type": "markdown",
   "id": "75a8cf0b",
   "metadata": {},
   "source": [
    "## do some plotting"
   ]
  },
  {
   "cell_type": "code",
   "execution_count": 70,
   "id": "1001da60",
   "metadata": {
    "ExecuteTime": {
     "end_time": "2021-07-18T09:29:13.807207Z",
     "start_time": "2021-07-18T09:29:13.792664Z"
    }
   },
   "outputs": [
    {
     "data": {
      "text/html": [
       "<div>\n",
       "<style scoped>\n",
       "    .dataframe tbody tr th:only-of-type {\n",
       "        vertical-align: middle;\n",
       "    }\n",
       "\n",
       "    .dataframe tbody tr th {\n",
       "        vertical-align: top;\n",
       "    }\n",
       "\n",
       "    .dataframe thead th {\n",
       "        text-align: right;\n",
       "    }\n",
       "</style>\n",
       "<table border=\"1\" class=\"dataframe\">\n",
       "  <thead>\n",
       "    <tr style=\"text-align: right;\">\n",
       "      <th></th>\n",
       "      <th>Datum</th>\n",
       "      <th>Wasserstand_mitteldachstetten-24211414</th>\n",
       "    </tr>\n",
       "  </thead>\n",
       "  <tbody>\n",
       "    <tr>\n",
       "      <th>0</th>\n",
       "      <td>2021-07-18 11:15:00</td>\n",
       "      <td>134</td>\n",
       "    </tr>\n",
       "    <tr>\n",
       "      <th>1</th>\n",
       "      <td>2021-07-18 11:00:00</td>\n",
       "      <td>134</td>\n",
       "    </tr>\n",
       "    <tr>\n",
       "      <th>2</th>\n",
       "      <td>2021-07-18 10:45:00</td>\n",
       "      <td>134</td>\n",
       "    </tr>\n",
       "    <tr>\n",
       "      <th>3</th>\n",
       "      <td>2021-07-18 10:30:00</td>\n",
       "      <td>134</td>\n",
       "    </tr>\n",
       "    <tr>\n",
       "      <th>4</th>\n",
       "      <td>2021-07-18 10:15:00</td>\n",
       "      <td>134</td>\n",
       "    </tr>\n",
       "  </tbody>\n",
       "</table>\n",
       "</div>"
      ],
      "text/plain": [
       "                Datum  Wasserstand_mitteldachstetten-24211414\n",
       "0 2021-07-18 11:15:00                                     134\n",
       "1 2021-07-18 11:00:00                                     134\n",
       "2 2021-07-18 10:45:00                                     134\n",
       "3 2021-07-18 10:30:00                                     134\n",
       "4 2021-07-18 10:15:00                                     134"
      ]
     },
     "execution_count": 70,
     "metadata": {},
     "output_type": "execute_result"
    }
   ],
   "source": [
    "exp_tbl = hnd_tables.get('mitteldachstetten-24211414').get('df')\n",
    "exp_tbl.head()"
   ]
  },
  {
   "cell_type": "code",
   "execution_count": 48,
   "id": "fe31b4c3",
   "metadata": {
    "ExecuteTime": {
     "end_time": "2021-07-17T22:56:27.514414Z",
     "start_time": "2021-07-17T22:56:27.426505Z"
    }
   },
   "outputs": [
    {
     "data": {
      "application/vnd.plotly.v1+json": {
       "config": {
        "plotlyServerURL": "https://plot.ly"
       },
       "data": [
        {
         "hovertemplate": "variable=Wasserstand_mitteldachstetten-24211414<br>Datum=%{x}<br>value=%{y}<extra></extra>",
         "legendgroup": "Wasserstand_mitteldachstetten-24211414",
         "line": {
          "color": "#636efa",
          "dash": "solid"
         },
         "mode": "lines",
         "name": "Wasserstand_mitteldachstetten-24211414",
         "orientation": "v",
         "showlegend": true,
         "type": "scatter",
         "x": [
          "2021-07-18T00:45:00",
          "2021-07-18T00:30:00",
          "2021-07-18T00:15:00",
          "2021-07-18T00:00:00",
          "2021-07-17T23:45:00",
          "2021-07-17T23:30:00",
          "2021-07-17T23:15:00",
          "2021-07-17T23:00:00",
          "2021-07-17T22:45:00",
          "2021-07-17T22:30:00",
          "2021-07-17T22:15:00",
          "2021-07-17T22:00:00",
          "2021-07-17T21:45:00",
          "2021-07-17T21:30:00",
          "2021-07-17T21:15:00",
          "2021-07-17T21:00:00",
          "2021-07-17T20:45:00",
          "2021-07-17T20:30:00",
          "2021-07-17T20:15:00",
          "2021-07-17T20:00:00",
          "2021-07-17T19:45:00",
          "2021-07-17T19:30:00",
          "2021-07-17T19:15:00",
          "2021-07-17T19:00:00",
          "2021-07-17T18:45:00",
          "2021-07-17T18:30:00",
          "2021-07-17T18:15:00",
          "2021-07-17T18:00:00",
          "2021-07-17T17:45:00",
          "2021-07-17T17:30:00",
          "2021-07-17T17:15:00",
          "2021-07-17T17:00:00",
          "2021-07-17T16:45:00",
          "2021-07-17T16:30:00",
          "2021-07-17T16:15:00",
          "2021-07-17T16:00:00",
          "2021-07-17T15:45:00",
          "2021-07-17T15:30:00",
          "2021-07-17T15:15:00",
          "2021-07-17T15:00:00",
          "2021-07-17T14:45:00",
          "2021-07-17T14:30:00",
          "2021-07-17T14:15:00",
          "2021-07-17T14:00:00",
          "2021-07-17T13:45:00",
          "2021-07-17T13:30:00",
          "2021-07-17T13:15:00",
          "2021-07-17T13:00:00"
         ],
         "xaxis": "x",
         "y": [
          142,
          142,
          142,
          143,
          143,
          143,
          144,
          144,
          144,
          145,
          145,
          146,
          146,
          146,
          147,
          147,
          147,
          147,
          147,
          147,
          147,
          146,
          146,
          146,
          146,
          145,
          144,
          141,
          141,
          140,
          140,
          141,
          141,
          141,
          141,
          141,
          141,
          142,
          142,
          142,
          143,
          143,
          144,
          145,
          146,
          146,
          147,
          148
         ],
         "yaxis": "y"
        }
       ],
       "layout": {
        "legend": {
         "title": {
          "text": "variable"
         },
         "tracegroupgap": 0
        },
        "margin": {
         "t": 60
        },
        "template": {
         "data": {
          "bar": [
           {
            "error_x": {
             "color": "#2a3f5f"
            },
            "error_y": {
             "color": "#2a3f5f"
            },
            "marker": {
             "line": {
              "color": "#E5ECF6",
              "width": 0.5
             },
             "pattern": {
              "fillmode": "overlay",
              "size": 10,
              "solidity": 0.2
             }
            },
            "type": "bar"
           }
          ],
          "barpolar": [
           {
            "marker": {
             "line": {
              "color": "#E5ECF6",
              "width": 0.5
             },
             "pattern": {
              "fillmode": "overlay",
              "size": 10,
              "solidity": 0.2
             }
            },
            "type": "barpolar"
           }
          ],
          "carpet": [
           {
            "aaxis": {
             "endlinecolor": "#2a3f5f",
             "gridcolor": "white",
             "linecolor": "white",
             "minorgridcolor": "white",
             "startlinecolor": "#2a3f5f"
            },
            "baxis": {
             "endlinecolor": "#2a3f5f",
             "gridcolor": "white",
             "linecolor": "white",
             "minorgridcolor": "white",
             "startlinecolor": "#2a3f5f"
            },
            "type": "carpet"
           }
          ],
          "choropleth": [
           {
            "colorbar": {
             "outlinewidth": 0,
             "ticks": ""
            },
            "type": "choropleth"
           }
          ],
          "contour": [
           {
            "colorbar": {
             "outlinewidth": 0,
             "ticks": ""
            },
            "colorscale": [
             [
              0,
              "#0d0887"
             ],
             [
              0.1111111111111111,
              "#46039f"
             ],
             [
              0.2222222222222222,
              "#7201a8"
             ],
             [
              0.3333333333333333,
              "#9c179e"
             ],
             [
              0.4444444444444444,
              "#bd3786"
             ],
             [
              0.5555555555555556,
              "#d8576b"
             ],
             [
              0.6666666666666666,
              "#ed7953"
             ],
             [
              0.7777777777777778,
              "#fb9f3a"
             ],
             [
              0.8888888888888888,
              "#fdca26"
             ],
             [
              1,
              "#f0f921"
             ]
            ],
            "type": "contour"
           }
          ],
          "contourcarpet": [
           {
            "colorbar": {
             "outlinewidth": 0,
             "ticks": ""
            },
            "type": "contourcarpet"
           }
          ],
          "heatmap": [
           {
            "colorbar": {
             "outlinewidth": 0,
             "ticks": ""
            },
            "colorscale": [
             [
              0,
              "#0d0887"
             ],
             [
              0.1111111111111111,
              "#46039f"
             ],
             [
              0.2222222222222222,
              "#7201a8"
             ],
             [
              0.3333333333333333,
              "#9c179e"
             ],
             [
              0.4444444444444444,
              "#bd3786"
             ],
             [
              0.5555555555555556,
              "#d8576b"
             ],
             [
              0.6666666666666666,
              "#ed7953"
             ],
             [
              0.7777777777777778,
              "#fb9f3a"
             ],
             [
              0.8888888888888888,
              "#fdca26"
             ],
             [
              1,
              "#f0f921"
             ]
            ],
            "type": "heatmap"
           }
          ],
          "heatmapgl": [
           {
            "colorbar": {
             "outlinewidth": 0,
             "ticks": ""
            },
            "colorscale": [
             [
              0,
              "#0d0887"
             ],
             [
              0.1111111111111111,
              "#46039f"
             ],
             [
              0.2222222222222222,
              "#7201a8"
             ],
             [
              0.3333333333333333,
              "#9c179e"
             ],
             [
              0.4444444444444444,
              "#bd3786"
             ],
             [
              0.5555555555555556,
              "#d8576b"
             ],
             [
              0.6666666666666666,
              "#ed7953"
             ],
             [
              0.7777777777777778,
              "#fb9f3a"
             ],
             [
              0.8888888888888888,
              "#fdca26"
             ],
             [
              1,
              "#f0f921"
             ]
            ],
            "type": "heatmapgl"
           }
          ],
          "histogram": [
           {
            "marker": {
             "pattern": {
              "fillmode": "overlay",
              "size": 10,
              "solidity": 0.2
             }
            },
            "type": "histogram"
           }
          ],
          "histogram2d": [
           {
            "colorbar": {
             "outlinewidth": 0,
             "ticks": ""
            },
            "colorscale": [
             [
              0,
              "#0d0887"
             ],
             [
              0.1111111111111111,
              "#46039f"
             ],
             [
              0.2222222222222222,
              "#7201a8"
             ],
             [
              0.3333333333333333,
              "#9c179e"
             ],
             [
              0.4444444444444444,
              "#bd3786"
             ],
             [
              0.5555555555555556,
              "#d8576b"
             ],
             [
              0.6666666666666666,
              "#ed7953"
             ],
             [
              0.7777777777777778,
              "#fb9f3a"
             ],
             [
              0.8888888888888888,
              "#fdca26"
             ],
             [
              1,
              "#f0f921"
             ]
            ],
            "type": "histogram2d"
           }
          ],
          "histogram2dcontour": [
           {
            "colorbar": {
             "outlinewidth": 0,
             "ticks": ""
            },
            "colorscale": [
             [
              0,
              "#0d0887"
             ],
             [
              0.1111111111111111,
              "#46039f"
             ],
             [
              0.2222222222222222,
              "#7201a8"
             ],
             [
              0.3333333333333333,
              "#9c179e"
             ],
             [
              0.4444444444444444,
              "#bd3786"
             ],
             [
              0.5555555555555556,
              "#d8576b"
             ],
             [
              0.6666666666666666,
              "#ed7953"
             ],
             [
              0.7777777777777778,
              "#fb9f3a"
             ],
             [
              0.8888888888888888,
              "#fdca26"
             ],
             [
              1,
              "#f0f921"
             ]
            ],
            "type": "histogram2dcontour"
           }
          ],
          "mesh3d": [
           {
            "colorbar": {
             "outlinewidth": 0,
             "ticks": ""
            },
            "type": "mesh3d"
           }
          ],
          "parcoords": [
           {
            "line": {
             "colorbar": {
              "outlinewidth": 0,
              "ticks": ""
             }
            },
            "type": "parcoords"
           }
          ],
          "pie": [
           {
            "automargin": true,
            "type": "pie"
           }
          ],
          "scatter": [
           {
            "marker": {
             "colorbar": {
              "outlinewidth": 0,
              "ticks": ""
             }
            },
            "type": "scatter"
           }
          ],
          "scatter3d": [
           {
            "line": {
             "colorbar": {
              "outlinewidth": 0,
              "ticks": ""
             }
            },
            "marker": {
             "colorbar": {
              "outlinewidth": 0,
              "ticks": ""
             }
            },
            "type": "scatter3d"
           }
          ],
          "scattercarpet": [
           {
            "marker": {
             "colorbar": {
              "outlinewidth": 0,
              "ticks": ""
             }
            },
            "type": "scattercarpet"
           }
          ],
          "scattergeo": [
           {
            "marker": {
             "colorbar": {
              "outlinewidth": 0,
              "ticks": ""
             }
            },
            "type": "scattergeo"
           }
          ],
          "scattergl": [
           {
            "marker": {
             "colorbar": {
              "outlinewidth": 0,
              "ticks": ""
             }
            },
            "type": "scattergl"
           }
          ],
          "scattermapbox": [
           {
            "marker": {
             "colorbar": {
              "outlinewidth": 0,
              "ticks": ""
             }
            },
            "type": "scattermapbox"
           }
          ],
          "scatterpolar": [
           {
            "marker": {
             "colorbar": {
              "outlinewidth": 0,
              "ticks": ""
             }
            },
            "type": "scatterpolar"
           }
          ],
          "scatterpolargl": [
           {
            "marker": {
             "colorbar": {
              "outlinewidth": 0,
              "ticks": ""
             }
            },
            "type": "scatterpolargl"
           }
          ],
          "scatterternary": [
           {
            "marker": {
             "colorbar": {
              "outlinewidth": 0,
              "ticks": ""
             }
            },
            "type": "scatterternary"
           }
          ],
          "surface": [
           {
            "colorbar": {
             "outlinewidth": 0,
             "ticks": ""
            },
            "colorscale": [
             [
              0,
              "#0d0887"
             ],
             [
              0.1111111111111111,
              "#46039f"
             ],
             [
              0.2222222222222222,
              "#7201a8"
             ],
             [
              0.3333333333333333,
              "#9c179e"
             ],
             [
              0.4444444444444444,
              "#bd3786"
             ],
             [
              0.5555555555555556,
              "#d8576b"
             ],
             [
              0.6666666666666666,
              "#ed7953"
             ],
             [
              0.7777777777777778,
              "#fb9f3a"
             ],
             [
              0.8888888888888888,
              "#fdca26"
             ],
             [
              1,
              "#f0f921"
             ]
            ],
            "type": "surface"
           }
          ],
          "table": [
           {
            "cells": {
             "fill": {
              "color": "#EBF0F8"
             },
             "line": {
              "color": "white"
             }
            },
            "header": {
             "fill": {
              "color": "#C8D4E3"
             },
             "line": {
              "color": "white"
             }
            },
            "type": "table"
           }
          ]
         },
         "layout": {
          "annotationdefaults": {
           "arrowcolor": "#2a3f5f",
           "arrowhead": 0,
           "arrowwidth": 1
          },
          "autotypenumbers": "strict",
          "coloraxis": {
           "colorbar": {
            "outlinewidth": 0,
            "ticks": ""
           }
          },
          "colorscale": {
           "diverging": [
            [
             0,
             "#8e0152"
            ],
            [
             0.1,
             "#c51b7d"
            ],
            [
             0.2,
             "#de77ae"
            ],
            [
             0.3,
             "#f1b6da"
            ],
            [
             0.4,
             "#fde0ef"
            ],
            [
             0.5,
             "#f7f7f7"
            ],
            [
             0.6,
             "#e6f5d0"
            ],
            [
             0.7,
             "#b8e186"
            ],
            [
             0.8,
             "#7fbc41"
            ],
            [
             0.9,
             "#4d9221"
            ],
            [
             1,
             "#276419"
            ]
           ],
           "sequential": [
            [
             0,
             "#0d0887"
            ],
            [
             0.1111111111111111,
             "#46039f"
            ],
            [
             0.2222222222222222,
             "#7201a8"
            ],
            [
             0.3333333333333333,
             "#9c179e"
            ],
            [
             0.4444444444444444,
             "#bd3786"
            ],
            [
             0.5555555555555556,
             "#d8576b"
            ],
            [
             0.6666666666666666,
             "#ed7953"
            ],
            [
             0.7777777777777778,
             "#fb9f3a"
            ],
            [
             0.8888888888888888,
             "#fdca26"
            ],
            [
             1,
             "#f0f921"
            ]
           ],
           "sequentialminus": [
            [
             0,
             "#0d0887"
            ],
            [
             0.1111111111111111,
             "#46039f"
            ],
            [
             0.2222222222222222,
             "#7201a8"
            ],
            [
             0.3333333333333333,
             "#9c179e"
            ],
            [
             0.4444444444444444,
             "#bd3786"
            ],
            [
             0.5555555555555556,
             "#d8576b"
            ],
            [
             0.6666666666666666,
             "#ed7953"
            ],
            [
             0.7777777777777778,
             "#fb9f3a"
            ],
            [
             0.8888888888888888,
             "#fdca26"
            ],
            [
             1,
             "#f0f921"
            ]
           ]
          },
          "colorway": [
           "#636efa",
           "#EF553B",
           "#00cc96",
           "#ab63fa",
           "#FFA15A",
           "#19d3f3",
           "#FF6692",
           "#B6E880",
           "#FF97FF",
           "#FECB52"
          ],
          "font": {
           "color": "#2a3f5f"
          },
          "geo": {
           "bgcolor": "white",
           "lakecolor": "white",
           "landcolor": "#E5ECF6",
           "showlakes": true,
           "showland": true,
           "subunitcolor": "white"
          },
          "hoverlabel": {
           "align": "left"
          },
          "hovermode": "closest",
          "mapbox": {
           "style": "light"
          },
          "paper_bgcolor": "white",
          "plot_bgcolor": "#E5ECF6",
          "polar": {
           "angularaxis": {
            "gridcolor": "white",
            "linecolor": "white",
            "ticks": ""
           },
           "bgcolor": "#E5ECF6",
           "radialaxis": {
            "gridcolor": "white",
            "linecolor": "white",
            "ticks": ""
           }
          },
          "scene": {
           "xaxis": {
            "backgroundcolor": "#E5ECF6",
            "gridcolor": "white",
            "gridwidth": 2,
            "linecolor": "white",
            "showbackground": true,
            "ticks": "",
            "zerolinecolor": "white"
           },
           "yaxis": {
            "backgroundcolor": "#E5ECF6",
            "gridcolor": "white",
            "gridwidth": 2,
            "linecolor": "white",
            "showbackground": true,
            "ticks": "",
            "zerolinecolor": "white"
           },
           "zaxis": {
            "backgroundcolor": "#E5ECF6",
            "gridcolor": "white",
            "gridwidth": 2,
            "linecolor": "white",
            "showbackground": true,
            "ticks": "",
            "zerolinecolor": "white"
           }
          },
          "shapedefaults": {
           "line": {
            "color": "#2a3f5f"
           }
          },
          "ternary": {
           "aaxis": {
            "gridcolor": "white",
            "linecolor": "white",
            "ticks": ""
           },
           "baxis": {
            "gridcolor": "white",
            "linecolor": "white",
            "ticks": ""
           },
           "bgcolor": "#E5ECF6",
           "caxis": {
            "gridcolor": "white",
            "linecolor": "white",
            "ticks": ""
           }
          },
          "title": {
           "x": 0.05
          },
          "xaxis": {
           "automargin": true,
           "gridcolor": "white",
           "linecolor": "white",
           "ticks": "",
           "title": {
            "standoff": 15
           },
           "zerolinecolor": "white",
           "zerolinewidth": 2
          },
          "yaxis": {
           "automargin": true,
           "gridcolor": "white",
           "linecolor": "white",
           "ticks": "",
           "title": {
            "standoff": 15
           },
           "zerolinecolor": "white",
           "zerolinewidth": 2
          }
         }
        },
        "xaxis": {
         "anchor": "y",
         "domain": [
          0,
          1
         ],
         "title": {
          "text": "Datum"
         }
        },
        "yaxis": {
         "anchor": "x",
         "domain": [
          0,
          1
         ],
         "title": {
          "text": "value"
         }
        }
       }
      },
      "text/html": [
       "<div>                            <div id=\"e487aa1f-77a3-429e-b07e-eefed9496167\" class=\"plotly-graph-div\" style=\"height:525px; width:100%;\"></div>            <script type=\"text/javascript\">                require([\"plotly\"], function(Plotly) {                    window.PLOTLYENV=window.PLOTLYENV || {};                                    if (document.getElementById(\"e487aa1f-77a3-429e-b07e-eefed9496167\")) {                    Plotly.newPlot(                        \"e487aa1f-77a3-429e-b07e-eefed9496167\",                        [{\"hovertemplate\":\"variable=Wasserstand_mitteldachstetten-24211414<br>Datum=%{x}<br>value=%{y}<extra></extra>\",\"legendgroup\":\"Wasserstand_mitteldachstetten-24211414\",\"line\":{\"color\":\"#636efa\",\"dash\":\"solid\"},\"mode\":\"lines\",\"name\":\"Wasserstand_mitteldachstetten-24211414\",\"orientation\":\"v\",\"showlegend\":true,\"type\":\"scatter\",\"x\":[\"2021-07-18T00:45:00\",\"2021-07-18T00:30:00\",\"2021-07-18T00:15:00\",\"2021-07-18T00:00:00\",\"2021-07-17T23:45:00\",\"2021-07-17T23:30:00\",\"2021-07-17T23:15:00\",\"2021-07-17T23:00:00\",\"2021-07-17T22:45:00\",\"2021-07-17T22:30:00\",\"2021-07-17T22:15:00\",\"2021-07-17T22:00:00\",\"2021-07-17T21:45:00\",\"2021-07-17T21:30:00\",\"2021-07-17T21:15:00\",\"2021-07-17T21:00:00\",\"2021-07-17T20:45:00\",\"2021-07-17T20:30:00\",\"2021-07-17T20:15:00\",\"2021-07-17T20:00:00\",\"2021-07-17T19:45:00\",\"2021-07-17T19:30:00\",\"2021-07-17T19:15:00\",\"2021-07-17T19:00:00\",\"2021-07-17T18:45:00\",\"2021-07-17T18:30:00\",\"2021-07-17T18:15:00\",\"2021-07-17T18:00:00\",\"2021-07-17T17:45:00\",\"2021-07-17T17:30:00\",\"2021-07-17T17:15:00\",\"2021-07-17T17:00:00\",\"2021-07-17T16:45:00\",\"2021-07-17T16:30:00\",\"2021-07-17T16:15:00\",\"2021-07-17T16:00:00\",\"2021-07-17T15:45:00\",\"2021-07-17T15:30:00\",\"2021-07-17T15:15:00\",\"2021-07-17T15:00:00\",\"2021-07-17T14:45:00\",\"2021-07-17T14:30:00\",\"2021-07-17T14:15:00\",\"2021-07-17T14:00:00\",\"2021-07-17T13:45:00\",\"2021-07-17T13:30:00\",\"2021-07-17T13:15:00\",\"2021-07-17T13:00:00\"],\"xaxis\":\"x\",\"y\":[142,142,142,143,143,143,144,144,144,145,145,146,146,146,147,147,147,147,147,147,147,146,146,146,146,145,144,141,141,140,140,141,141,141,141,141,141,142,142,142,143,143,144,145,146,146,147,148],\"yaxis\":\"y\"}],                        {\"legend\":{\"title\":{\"text\":\"variable\"},\"tracegroupgap\":0},\"margin\":{\"t\":60},\"template\":{\"data\":{\"bar\":[{\"error_x\":{\"color\":\"#2a3f5f\"},\"error_y\":{\"color\":\"#2a3f5f\"},\"marker\":{\"line\":{\"color\":\"#E5ECF6\",\"width\":0.5},\"pattern\":{\"fillmode\":\"overlay\",\"size\":10,\"solidity\":0.2}},\"type\":\"bar\"}],\"barpolar\":[{\"marker\":{\"line\":{\"color\":\"#E5ECF6\",\"width\":0.5},\"pattern\":{\"fillmode\":\"overlay\",\"size\":10,\"solidity\":0.2}},\"type\":\"barpolar\"}],\"carpet\":[{\"aaxis\":{\"endlinecolor\":\"#2a3f5f\",\"gridcolor\":\"white\",\"linecolor\":\"white\",\"minorgridcolor\":\"white\",\"startlinecolor\":\"#2a3f5f\"},\"baxis\":{\"endlinecolor\":\"#2a3f5f\",\"gridcolor\":\"white\",\"linecolor\":\"white\",\"minorgridcolor\":\"white\",\"startlinecolor\":\"#2a3f5f\"},\"type\":\"carpet\"}],\"choropleth\":[{\"colorbar\":{\"outlinewidth\":0,\"ticks\":\"\"},\"type\":\"choropleth\"}],\"contour\":[{\"colorbar\":{\"outlinewidth\":0,\"ticks\":\"\"},\"colorscale\":[[0.0,\"#0d0887\"],[0.1111111111111111,\"#46039f\"],[0.2222222222222222,\"#7201a8\"],[0.3333333333333333,\"#9c179e\"],[0.4444444444444444,\"#bd3786\"],[0.5555555555555556,\"#d8576b\"],[0.6666666666666666,\"#ed7953\"],[0.7777777777777778,\"#fb9f3a\"],[0.8888888888888888,\"#fdca26\"],[1.0,\"#f0f921\"]],\"type\":\"contour\"}],\"contourcarpet\":[{\"colorbar\":{\"outlinewidth\":0,\"ticks\":\"\"},\"type\":\"contourcarpet\"}],\"heatmap\":[{\"colorbar\":{\"outlinewidth\":0,\"ticks\":\"\"},\"colorscale\":[[0.0,\"#0d0887\"],[0.1111111111111111,\"#46039f\"],[0.2222222222222222,\"#7201a8\"],[0.3333333333333333,\"#9c179e\"],[0.4444444444444444,\"#bd3786\"],[0.5555555555555556,\"#d8576b\"],[0.6666666666666666,\"#ed7953\"],[0.7777777777777778,\"#fb9f3a\"],[0.8888888888888888,\"#fdca26\"],[1.0,\"#f0f921\"]],\"type\":\"heatmap\"}],\"heatmapgl\":[{\"colorbar\":{\"outlinewidth\":0,\"ticks\":\"\"},\"colorscale\":[[0.0,\"#0d0887\"],[0.1111111111111111,\"#46039f\"],[0.2222222222222222,\"#7201a8\"],[0.3333333333333333,\"#9c179e\"],[0.4444444444444444,\"#bd3786\"],[0.5555555555555556,\"#d8576b\"],[0.6666666666666666,\"#ed7953\"],[0.7777777777777778,\"#fb9f3a\"],[0.8888888888888888,\"#fdca26\"],[1.0,\"#f0f921\"]],\"type\":\"heatmapgl\"}],\"histogram\":[{\"marker\":{\"pattern\":{\"fillmode\":\"overlay\",\"size\":10,\"solidity\":0.2}},\"type\":\"histogram\"}],\"histogram2d\":[{\"colorbar\":{\"outlinewidth\":0,\"ticks\":\"\"},\"colorscale\":[[0.0,\"#0d0887\"],[0.1111111111111111,\"#46039f\"],[0.2222222222222222,\"#7201a8\"],[0.3333333333333333,\"#9c179e\"],[0.4444444444444444,\"#bd3786\"],[0.5555555555555556,\"#d8576b\"],[0.6666666666666666,\"#ed7953\"],[0.7777777777777778,\"#fb9f3a\"],[0.8888888888888888,\"#fdca26\"],[1.0,\"#f0f921\"]],\"type\":\"histogram2d\"}],\"histogram2dcontour\":[{\"colorbar\":{\"outlinewidth\":0,\"ticks\":\"\"},\"colorscale\":[[0.0,\"#0d0887\"],[0.1111111111111111,\"#46039f\"],[0.2222222222222222,\"#7201a8\"],[0.3333333333333333,\"#9c179e\"],[0.4444444444444444,\"#bd3786\"],[0.5555555555555556,\"#d8576b\"],[0.6666666666666666,\"#ed7953\"],[0.7777777777777778,\"#fb9f3a\"],[0.8888888888888888,\"#fdca26\"],[1.0,\"#f0f921\"]],\"type\":\"histogram2dcontour\"}],\"mesh3d\":[{\"colorbar\":{\"outlinewidth\":0,\"ticks\":\"\"},\"type\":\"mesh3d\"}],\"parcoords\":[{\"line\":{\"colorbar\":{\"outlinewidth\":0,\"ticks\":\"\"}},\"type\":\"parcoords\"}],\"pie\":[{\"automargin\":true,\"type\":\"pie\"}],\"scatter\":[{\"marker\":{\"colorbar\":{\"outlinewidth\":0,\"ticks\":\"\"}},\"type\":\"scatter\"}],\"scatter3d\":[{\"line\":{\"colorbar\":{\"outlinewidth\":0,\"ticks\":\"\"}},\"marker\":{\"colorbar\":{\"outlinewidth\":0,\"ticks\":\"\"}},\"type\":\"scatter3d\"}],\"scattercarpet\":[{\"marker\":{\"colorbar\":{\"outlinewidth\":0,\"ticks\":\"\"}},\"type\":\"scattercarpet\"}],\"scattergeo\":[{\"marker\":{\"colorbar\":{\"outlinewidth\":0,\"ticks\":\"\"}},\"type\":\"scattergeo\"}],\"scattergl\":[{\"marker\":{\"colorbar\":{\"outlinewidth\":0,\"ticks\":\"\"}},\"type\":\"scattergl\"}],\"scattermapbox\":[{\"marker\":{\"colorbar\":{\"outlinewidth\":0,\"ticks\":\"\"}},\"type\":\"scattermapbox\"}],\"scatterpolar\":[{\"marker\":{\"colorbar\":{\"outlinewidth\":0,\"ticks\":\"\"}},\"type\":\"scatterpolar\"}],\"scatterpolargl\":[{\"marker\":{\"colorbar\":{\"outlinewidth\":0,\"ticks\":\"\"}},\"type\":\"scatterpolargl\"}],\"scatterternary\":[{\"marker\":{\"colorbar\":{\"outlinewidth\":0,\"ticks\":\"\"}},\"type\":\"scatterternary\"}],\"surface\":[{\"colorbar\":{\"outlinewidth\":0,\"ticks\":\"\"},\"colorscale\":[[0.0,\"#0d0887\"],[0.1111111111111111,\"#46039f\"],[0.2222222222222222,\"#7201a8\"],[0.3333333333333333,\"#9c179e\"],[0.4444444444444444,\"#bd3786\"],[0.5555555555555556,\"#d8576b\"],[0.6666666666666666,\"#ed7953\"],[0.7777777777777778,\"#fb9f3a\"],[0.8888888888888888,\"#fdca26\"],[1.0,\"#f0f921\"]],\"type\":\"surface\"}],\"table\":[{\"cells\":{\"fill\":{\"color\":\"#EBF0F8\"},\"line\":{\"color\":\"white\"}},\"header\":{\"fill\":{\"color\":\"#C8D4E3\"},\"line\":{\"color\":\"white\"}},\"type\":\"table\"}]},\"layout\":{\"annotationdefaults\":{\"arrowcolor\":\"#2a3f5f\",\"arrowhead\":0,\"arrowwidth\":1},\"autotypenumbers\":\"strict\",\"coloraxis\":{\"colorbar\":{\"outlinewidth\":0,\"ticks\":\"\"}},\"colorscale\":{\"diverging\":[[0,\"#8e0152\"],[0.1,\"#c51b7d\"],[0.2,\"#de77ae\"],[0.3,\"#f1b6da\"],[0.4,\"#fde0ef\"],[0.5,\"#f7f7f7\"],[0.6,\"#e6f5d0\"],[0.7,\"#b8e186\"],[0.8,\"#7fbc41\"],[0.9,\"#4d9221\"],[1,\"#276419\"]],\"sequential\":[[0.0,\"#0d0887\"],[0.1111111111111111,\"#46039f\"],[0.2222222222222222,\"#7201a8\"],[0.3333333333333333,\"#9c179e\"],[0.4444444444444444,\"#bd3786\"],[0.5555555555555556,\"#d8576b\"],[0.6666666666666666,\"#ed7953\"],[0.7777777777777778,\"#fb9f3a\"],[0.8888888888888888,\"#fdca26\"],[1.0,\"#f0f921\"]],\"sequentialminus\":[[0.0,\"#0d0887\"],[0.1111111111111111,\"#46039f\"],[0.2222222222222222,\"#7201a8\"],[0.3333333333333333,\"#9c179e\"],[0.4444444444444444,\"#bd3786\"],[0.5555555555555556,\"#d8576b\"],[0.6666666666666666,\"#ed7953\"],[0.7777777777777778,\"#fb9f3a\"],[0.8888888888888888,\"#fdca26\"],[1.0,\"#f0f921\"]]},\"colorway\":[\"#636efa\",\"#EF553B\",\"#00cc96\",\"#ab63fa\",\"#FFA15A\",\"#19d3f3\",\"#FF6692\",\"#B6E880\",\"#FF97FF\",\"#FECB52\"],\"font\":{\"color\":\"#2a3f5f\"},\"geo\":{\"bgcolor\":\"white\",\"lakecolor\":\"white\",\"landcolor\":\"#E5ECF6\",\"showlakes\":true,\"showland\":true,\"subunitcolor\":\"white\"},\"hoverlabel\":{\"align\":\"left\"},\"hovermode\":\"closest\",\"mapbox\":{\"style\":\"light\"},\"paper_bgcolor\":\"white\",\"plot_bgcolor\":\"#E5ECF6\",\"polar\":{\"angularaxis\":{\"gridcolor\":\"white\",\"linecolor\":\"white\",\"ticks\":\"\"},\"bgcolor\":\"#E5ECF6\",\"radialaxis\":{\"gridcolor\":\"white\",\"linecolor\":\"white\",\"ticks\":\"\"}},\"scene\":{\"xaxis\":{\"backgroundcolor\":\"#E5ECF6\",\"gridcolor\":\"white\",\"gridwidth\":2,\"linecolor\":\"white\",\"showbackground\":true,\"ticks\":\"\",\"zerolinecolor\":\"white\"},\"yaxis\":{\"backgroundcolor\":\"#E5ECF6\",\"gridcolor\":\"white\",\"gridwidth\":2,\"linecolor\":\"white\",\"showbackground\":true,\"ticks\":\"\",\"zerolinecolor\":\"white\"},\"zaxis\":{\"backgroundcolor\":\"#E5ECF6\",\"gridcolor\":\"white\",\"gridwidth\":2,\"linecolor\":\"white\",\"showbackground\":true,\"ticks\":\"\",\"zerolinecolor\":\"white\"}},\"shapedefaults\":{\"line\":{\"color\":\"#2a3f5f\"}},\"ternary\":{\"aaxis\":{\"gridcolor\":\"white\",\"linecolor\":\"white\",\"ticks\":\"\"},\"baxis\":{\"gridcolor\":\"white\",\"linecolor\":\"white\",\"ticks\":\"\"},\"bgcolor\":\"#E5ECF6\",\"caxis\":{\"gridcolor\":\"white\",\"linecolor\":\"white\",\"ticks\":\"\"}},\"title\":{\"x\":0.05},\"xaxis\":{\"automargin\":true,\"gridcolor\":\"white\",\"linecolor\":\"white\",\"ticks\":\"\",\"title\":{\"standoff\":15},\"zerolinecolor\":\"white\",\"zerolinewidth\":2},\"yaxis\":{\"automargin\":true,\"gridcolor\":\"white\",\"linecolor\":\"white\",\"ticks\":\"\",\"title\":{\"standoff\":15},\"zerolinecolor\":\"white\",\"zerolinewidth\":2}}},\"xaxis\":{\"anchor\":\"y\",\"domain\":[0.0,1.0],\"title\":{\"text\":\"Datum\"}},\"yaxis\":{\"anchor\":\"x\",\"domain\":[0.0,1.0],\"title\":{\"text\":\"value\"}}},                        {\"responsive\": true}                    ).then(function(){\n",
       "                            \n",
       "var gd = document.getElementById('e487aa1f-77a3-429e-b07e-eefed9496167');\n",
       "var x = new MutationObserver(function (mutations, observer) {{\n",
       "        var display = window.getComputedStyle(gd).display;\n",
       "        if (!display || display === 'none') {{\n",
       "            console.log([gd, 'removed!']);\n",
       "            Plotly.purge(gd);\n",
       "            observer.disconnect();\n",
       "        }}\n",
       "}});\n",
       "\n",
       "// Listen for the removal of the full notebook cells\n",
       "var notebookContainer = gd.closest('#notebook-container');\n",
       "if (notebookContainer) {{\n",
       "    x.observe(notebookContainer, {childList: true});\n",
       "}}\n",
       "\n",
       "// Listen for the clearing of the current output cell\n",
       "var outputEl = gd.closest('.output');\n",
       "if (outputEl) {{\n",
       "    x.observe(outputEl, {childList: true});\n",
       "}}\n",
       "\n",
       "                        })                };                });            </script>        </div>"
      ]
     },
     "metadata": {},
     "output_type": "display_data"
    }
   ],
   "source": [
    "# measure diff to levels\n",
    "today = dt.datetime.today().date()\n",
    "df_today = exp_tbl[exp_tbl.Datum.dt.date == today]\n",
    "df_recent = exp_tbl.head(48)\n",
    "px.line(df_recent.set_index('Datum'))"
   ]
  },
  {
   "cell_type": "code",
   "execution_count": 49,
   "id": "cf523375",
   "metadata": {
    "ExecuteTime": {
     "end_time": "2021-07-17T22:56:30.811417Z",
     "start_time": "2021-07-17T22:56:30.643724Z"
    }
   },
   "outputs": [
    {
     "data": {
      "text/plain": [
       "<matplotlib.legend.Legend at 0x134996940>"
      ]
     },
     "execution_count": 49,
     "metadata": {},
     "output_type": "execute_result"
    },
    {
     "data": {
      "image/png": "[encoded data removed]",
      "text/plain": [
       "<Figure size 432x288 with 1 Axes>"
      ]
     },
     "metadata": {
      "needs_background": "light"
     },
     "output_type": "display_data"
    }
   ],
   "source": [
    "sns.lineplot(data=df_recent.set_index('Datum'))\n",
    "for list in checkpoints.values():\n",
    "    \n",
    "plt.legend()"
   ]
  },
  {
   "cell_type": "code",
   "execution_count": 106,
   "id": "6ffac785",
   "metadata": {
    "ExecuteTime": {
     "end_time": "2021-07-18T09:33:23.126270Z",
     "start_time": "2021-07-18T09:33:23.116138Z"
    }
   },
   "outputs": [],
   "source": [
    "def plot_recent_html(df, lvls):\n",
    "    \"\"\"\n",
    "    Returns the water level plot html encoded filtered to today.\n",
    "    \"\"\"\n",
    "    # filter df\n",
    "#     today = dt.datetime.today().date()\n",
    "#     df_today = df[df.Datum.dt.date == today]\n",
    "    df_recent = df.head(48)\n",
    "    \n",
    "    # set plot\n",
    "    fig = plt.figure()\n",
    "#     plt.ion() # don't show plot\n",
    "    sns.lineplot(data=df_recent.set_index('Datum'))\n",
    "    plt.xticks(rotation=90)\n",
    "    plt.legend()\n",
    "    plt.grid(axis='y')\n",
    "    # plot lvls\n",
    "    for i,lvl in enumerate(lvls):\n",
    "        sns.lineplot(x=df_recent.Datum, y=lvl, label=f'Stufe {i+1}')\n",
    "    \n",
    "#     plt.close(fig)\n",
    "    \n",
    "    # save plot\n",
    "    tmpfile = BytesIO()\n",
    "    fig.savefig(tmpfile, format='png')\n",
    "    encoded = base64.b64encode(tmpfile.getvalue()).decode('utf-8')\n",
    "    plot_html = 'Development last 12 hours:<br><br>' + '<img src=\\'data:image/png;base64,{}\\'>'.format(encoded) + \"<br><br>\"\n",
    "    \n",
    "    return plot_html"
   ]
  },
  {
   "cell_type": "markdown",
   "id": "53ee34eb",
   "metadata": {},
   "source": [
    "# Send email"
   ]
  },
  {
   "cell_type": "code",
   "execution_count": 117,
   "id": "43b887e1",
   "metadata": {
    "ExecuteTime": {
     "end_time": "2021-07-18T09:43:15.556221Z",
     "start_time": "2021-07-18T09:43:15.536659Z"
    }
   },
   "outputs": [],
   "source": [
    "def send_email(homename, sender_email, receiver_email, password, port, signature, lvl_results):\n",
    "    print('send email was called.')\n",
    "    # check, if there is any alert\n",
    "    if any([x.get('alert_lvl') for x in lvl_results.values()]):\n",
    "        print('there is an alert!')\n",
    "        # compile email msg\n",
    "        msg = MIMEMultipart('mixed')\n",
    "        msg['Subject'] = f\"{homename} -WATER ALERT- {now}\"\n",
    "        msg['From'] = f'{homename} <{sender_email}>'\n",
    "        msg['To'] = ','.join(receiver_email)\n",
    "        \n",
    "        # init msg\n",
    "        init = \"<p>***ALERT***, <br>Es wurde ein ueberhoehter Wasserstand gemeldet.<br><br></p>\"\n",
    "        # get contents\n",
    "        today = dt.datetime.today().date()\n",
    "        \n",
    "        # unpack dfs\n",
    "#         tables_html = [x.get('df').head(48).to_html() for x in lvl_results.values()]\n",
    "        plots_html = [plot_recent_html(vals.get('df'), vals.get('level_list')) for id_, vals in lvl_results.items()]\n",
    "        alert_levels_html = [f\"<p>Alert level {key}: {val.get('alert_lvl')}</p>\" for key, val in lvl_results.items()]\n",
    "    \n",
    "        # merge all html per checkpoint together\n",
    "        together = '<br><br>'.join([f'{alert_levels_html[x]}\\\n",
    "                                        <br><br>{plots_html[x]}' for x in range(len(plots_html))])\n",
    "\n",
    "        # Record the MIME types of text/html.\n",
    "        text = MIMEMultipart('alternative')\n",
    "        text.attach(MIMEText(init + together + signature, 'html', _charset=\"utf-8\"))\n",
    "        \n",
    "        # create tables as .csv from temp files\n",
    "        tempdir = tempfile.gettempdir()\n",
    "        filenames = [f'{tempdir}/{name}.csv' for name in lvl_results.keys()]\n",
    "        save_files = [value.get('df').head(48).to_csv(f'{tempdir}/{key}.csv') for key, value in lvl_results.items()]\n",
    "        for file_ in filenames:\n",
    "            with open(file_, \"rb\") as fil:\n",
    "                part = MIMEApplication(\n",
    "                        fil.read(),\n",
    "                        Name=basename(file_))\n",
    "            \n",
    "            part['Content-Disposition'] = f'attachment; filename={basename(file_)}'\n",
    "            msg.attach(part)\n",
    "            \n",
    "        # add all parts to msg\n",
    "        msg.attach(text)\n",
    "        \n",
    "        # Create a secure SSL context\n",
    "        context = ssl.create_default_context()\n",
    "\n",
    "        with smtplib.SMTP_SSL(\"smtp.gmail.com\", port, context=context) as server:\n",
    "            server.login(sender_email, password)\n",
    "            server.sendmail(sender_email, receiver_email, msg.as_string())\n",
    "        \n",
    "        print(f'successfully sent emails to {receiver_email}')"
   ]
  },
  {
   "cell_type": "code",
   "execution_count": 118,
   "id": "fd02b583",
   "metadata": {
    "ExecuteTime": {
     "end_time": "2021-07-18T09:43:16.091072Z",
     "start_time": "2021-07-18T09:43:16.079790Z"
    }
   },
   "outputs": [],
   "source": [
    "# send one stat per day\n",
    "# send alert when overstepping\n",
    "# email settings\n",
    "load_dotenv(find_dotenv())\n",
    "port = 465  # For SSL\n",
    "GMAIL = os.environ.get(\"GMAIL\")\n",
    "now = dt.datetime.now().strftime(\"%y-%m-%d %H:%M:%S\")\n",
    "\n",
    "homename = 'Wasserzeller Muehle'\n",
    "sender_email = os.environ.get(\"SENDER\")\n",
    "receiver_email = (os.environ.get(\"RECEIVER\")).split(',') # need list\n",
    "signature = f\"<p>Sources: <br>{'<br>-'.join([base_url.replace('___placeholder___', checkpoint) for checkpoint in checkpoints])}</p>\""
   ]
  },
  {
   "cell_type": "code",
   "execution_count": 119,
   "id": "ccb6d10c",
   "metadata": {
    "ExecuteTime": {
     "end_time": "2021-07-18T09:43:16.312459Z",
     "start_time": "2021-07-18T09:43:16.305857Z"
    }
   },
   "outputs": [
    {
     "data": {
      "text/plain": [
       "4"
      ]
     },
     "execution_count": 119,
     "metadata": {},
     "output_type": "execute_result"
    }
   ],
   "source": [
    "# manipulate alert_lvl\n",
    "hnd_tables['mitteldachstetten-24211414']['alert_lvl'] = 4\n",
    "hnd_tables['mitteldachstetten-24211414']['alert_lvl']"
   ]
  },
  {
   "cell_type": "code",
   "execution_count": 120,
   "id": "06d37c19",
   "metadata": {
    "ExecuteTime": {
     "end_time": "2021-07-18T09:43:17.006114Z",
     "start_time": "2021-07-18T09:43:16.999872Z"
    }
   },
   "outputs": [
    {
     "data": {
      "text/plain": [
       "'/var/folders/fg/10s82l0s4xq7b9ld1yn3k2j80000gn/T/mitteldachstetten-24211414.csv'"
      ]
     },
     "execution_count": 120,
     "metadata": {},
     "output_type": "execute_result"
    }
   ],
   "source": [
    "tempdir = tempfile.gettempdir()\n",
    "f'{tempdir}/mitteldachstetten-24211414.csv'"
   ]
  },
  {
   "cell_type": "code",
   "execution_count": 128,
   "id": "5396e767",
   "metadata": {
    "ExecuteTime": {
     "end_time": "2021-07-18T15:26:08.173856Z",
     "start_time": "2021-07-18T15:26:08.167699Z"
    }
   },
   "outputs": [
    {
     "name": "stdout",
     "output_type": "stream",
     "text": [
      "send email was called.\n"
     ]
    }
   ],
   "source": [
    "send_email(homename=homename, \n",
    "           sender_email=sender_email, \n",
    "           receiver_email=['moritzgeiger@hotmail.de'], \n",
    "           password=GMAIL, \n",
    "           port=port,\n",
    "           signature=signature, \n",
    "           lvl_results=hnd_tables)"
   ]
  },
  {
   "cell_type": "code",
   "execution_count": null,
   "id": "5491ef72",
   "metadata": {
    "ExecuteTime": {
     "end_time": "2021-07-15T22:47:14.180303Z",
     "start_time": "2021-07-15T22:47:14.180295Z"
    }
   },
   "outputs": [],
   "source": [
    "## TODO: \n",
    "# mitteldachstetten und oberhessbach (nicht ansbach) von https://www.hnd.bayern.de\n",
    "# melde 2: 1 email\n",
    "# melde 3: 1-2 mails mit warnung\n"
   ]
  },
  {
   "cell_type": "code",
   "execution_count": 124,
   "id": "cbec4117",
   "metadata": {
    "ExecuteTime": {
     "end_time": "2021-07-18T11:31:32.572259Z",
     "start_time": "2021-07-18T11:31:32.566037Z"
    }
   },
   "outputs": [
    {
     "data": {
      "text/plain": [
       "True"
      ]
     },
     "execution_count": 124,
     "metadata": {},
     "output_type": "execute_result"
    }
   ],
   "source": [
    "bool('0')"
   ]
  },
  {
   "cell_type": "code",
   "execution_count": 126,
   "id": "d435e7ec",
   "metadata": {
    "ExecuteTime": {
     "end_time": "2021-07-18T11:56:25.182802Z",
     "start_time": "2021-07-18T11:56:25.175963Z"
    }
   },
   "outputs": [
    {
     "data": {
      "text/plain": [
       "True"
      ]
     },
     "execution_count": 126,
     "metadata": {},
     "output_type": "execute_result"
    }
   ],
   "source": [
    "\"true\".lower() in ['true', 'dsf', 'sdf']"
   ]
  },
  {
   "cell_type": "code",
   "execution_count": null,
   "id": "ab125710",
   "metadata": {},
   "outputs": [],
   "source": []
  }
 ],
 "metadata": {
  "kernelspec": {
   "display_name": "Python 3 (ipykernel)",
   "language": "python",
   "name": "python3"
  },
  "language_info": {
   "codemirror_mode": {
    "name": "ipython",
    "version": 3
   },
   "file_extension": ".py",
   "mimetype": "text/x-python",
   "name": "python",
   "nbconvert_exporter": "python",
   "pygments_lexer": "ipython3",
   "version": "3.9.0"
  },
  "toc": {
   "base_numbering": 1,
   "nav_menu": {},
   "number_sections": true,
   "sideBar": true,
   "skip_h1_title": false,
   "title_cell": "Table of Contents",
   "title_sidebar": "Contents",
   "toc_cell": false,
   "toc_position": {},
   "toc_section_display": true,
   "toc_window_display": false
  }
 },
 "nbformat": 4,
 "nbformat_minor": 5
}
