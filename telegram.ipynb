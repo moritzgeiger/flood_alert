{
 "cells": [
  {
   "cell_type": "markdown",
   "id": "1393d4ee",
   "metadata": {},
   "source": [
    "# imports"
   ]
  },
  {
   "cell_type": "code",
   "execution_count": 21,
   "id": "46e45f4e",
   "metadata": {
    "ExecuteTime": {
     "end_time": "2022-04-09T14:16:56.992688Z",
     "start_time": "2022-04-09T14:16:56.988633Z"
    }
   },
   "outputs": [],
   "source": [
    "token = ''"
   ]
  },
  {
   "cell_type": "code",
   "execution_count": 2,
   "id": "6a0b8789",
   "metadata": {
    "ExecuteTime": {
     "end_time": "2022-04-09T12:06:43.649358Z",
     "start_time": "2022-04-09T12:06:43.541973Z"
    }
   },
   "outputs": [],
   "source": [
    "from telegram.ext import Updater\n",
    "import logging\n",
    "from telegram import Update\n",
    "from telegram.ext import CallbackContext\n",
    "from telegram.ext import CommandHandler\n",
    "\n",
    "\n",
    "logging.basicConfig(format='%(asctime)s - %(name)s - %(levelname)s - %(message)s',\n",
    "                     level=logging.INFO)\n",
    "\n",
    "updater = Updater(token=token, use_context=True)\n",
    "dispatcher = updater.dispatcher\n"
   ]
  },
  {
   "cell_type": "code",
   "execution_count": 3,
   "id": "0a853b40",
   "metadata": {
    "ExecuteTime": {
     "end_time": "2022-04-09T12:06:43.653971Z",
     "start_time": "2022-04-09T12:06:43.651367Z"
    }
   },
   "outputs": [],
   "source": [
    "def start(update: Update, context: CallbackContext):\n",
    "    context.bot.send_message(\n",
    "        chat_id=update.effective_chat.id, \n",
    "        text=\"I'm a bot, please talk to me!\"\n",
    "    )"
   ]
  },
  {
   "cell_type": "code",
   "execution_count": 6,
   "id": "94371faf",
   "metadata": {
    "ExecuteTime": {
     "end_time": "2022-04-09T12:07:18.080927Z",
     "start_time": "2022-04-09T12:07:18.076420Z"
    }
   },
   "outputs": [],
   "source": [
    "def lol(update: Update, context: CallbackContext):\n",
    "    context.bot.send_message(\n",
    "        chat_id=update.effective_chat.id, \n",
    "        text=\"You are bad news\"\n",
    "    )"
   ]
  },
  {
   "cell_type": "code",
   "execution_count": 7,
   "id": "e566808b",
   "metadata": {
    "ExecuteTime": {
     "end_time": "2022-04-09T12:07:45.929852Z",
     "start_time": "2022-04-09T12:07:45.925291Z"
    }
   },
   "outputs": [],
   "source": [
    "start_handler = CommandHandler('start', start)\n",
    "lol_handler = CommandHandler('lol', lol)\n",
    "dispatcher.add_handler(start_handler)\n",
    "dispatcher.add_handler(lol_handler)"
   ]
  },
  {
   "cell_type": "code",
   "execution_count": 8,
   "id": "23879ed2",
   "metadata": {
    "ExecuteTime": {
     "end_time": "2022-04-09T12:07:48.423646Z",
     "start_time": "2022-04-09T12:07:48.419624Z"
    }
   },
   "outputs": [],
   "source": [
    "updater.start_polling()"
   ]
  },
  {
   "cell_type": "markdown",
   "id": "d19d024b",
   "metadata": {},
   "source": [
    "# requests"
   ]
  },
  {
   "cell_type": "code",
   "execution_count": 11,
   "id": "e64c1dd0",
   "metadata": {
    "ExecuteTime": {
     "end_time": "2022-04-09T12:14:58.293176Z",
     "start_time": "2022-04-09T12:14:58.289686Z"
    }
   },
   "outputs": [],
   "source": [
    "import requests"
   ]
  },
  {
   "cell_type": "code",
   "execution_count": 19,
   "id": "44f8c5d5",
   "metadata": {
    "ExecuteTime": {
     "end_time": "2022-04-09T12:18:51.292871Z",
     "start_time": "2022-04-09T12:18:51.288844Z"
    }
   },
   "outputs": [],
   "source": [
    "url = f'https://api.telegram.org/bot{token}/sendMessage'\n",
    "params = {\n",
    "    'chat_id': '@wassermeldung',\n",
    "    'text': 'Hello World!'\n",
    "}\n",
    "\n",
    "r = requests.get(url, params=params)"
   ]
  },
  {
   "cell_type": "code",
   "execution_count": 20,
   "id": "1db3257d",
   "metadata": {
    "ExecuteTime": {
     "end_time": "2022-04-09T12:18:51.752528Z",
     "start_time": "2022-04-09T12:18:51.500534Z"
    }
   },
   "outputs": [
    {
     "data": {
      "text/plain": [
       "b'{\"ok\":true,\"result\":{\"message_id\":2,\"sender_chat\":{\"id\":-1001422542627,\"title\":\"Wassermeldung\",\"username\":\"wassermeldung\",\"type\":\"channel\"},\"chat\":{\"id\":-1001422542627,\"title\":\"Wassermeldung\",\"username\":\"wassermeldung\",\"type\":\"channel\"},\"date\":1649506733,\"text\":\"Hello World!\"}}'"
      ]
     },
     "execution_count": 20,
     "metadata": {},
     "output_type": "execute_result"
    }
   ],
   "source": [
    "\n",
    "r.content"
   ]
  },
  {
   "cell_type": "code",
   "execution_count": null,
   "id": "858b8d45",
   "metadata": {},
   "outputs": [],
   "source": []
  },
  {
   "cell_type": "markdown",
   "id": "336cb240",
   "metadata": {},
   "source": [
    "# plots"
   ]
  },
  {
   "cell_type": "code",
   "execution_count": null,
   "id": "0613d8f8",
   "metadata": {},
   "outputs": [],
   "source": []
  },
  {
   "cell_type": "code",
   "execution_count": null,
   "id": "468e6239",
   "metadata": {},
   "outputs": [],
   "source": []
  },
  {
   "cell_type": "code",
   "execution_count": null,
   "id": "221f7872",
   "metadata": {},
   "outputs": [],
   "source": []
  },
  {
   "cell_type": "code",
   "execution_count": null,
   "id": "10e6af95",
   "metadata": {},
   "outputs": [],
   "source": []
  },
  {
   "cell_type": "code",
   "execution_count": null,
   "id": "10cb4e95",
   "metadata": {},
   "outputs": [],
   "source": []
  },
  {
   "cell_type": "code",
   "execution_count": null,
   "id": "f3291f62",
   "metadata": {},
   "outputs": [],
   "source": []
  }
 ],
 "metadata": {
  "kernelspec": {
   "display_name": "Python 3 (ipykernel)",
   "language": "python",
   "name": "python3"
  },
  "language_info": {
   "codemirror_mode": {
    "name": "ipython",
    "version": 3
   },
   "file_extension": ".py",
   "mimetype": "text/x-python",
   "name": "python",
   "nbconvert_exporter": "python",
   "pygments_lexer": "ipython3",
   "version": "3.9.0"
  },
  "toc": {
   "base_numbering": 1,
   "nav_menu": {},
   "number_sections": true,
   "sideBar": true,
   "skip_h1_title": false,
   "title_cell": "Table of Contents",
   "title_sidebar": "Contents",
   "toc_cell": false,
   "toc_position": {},
   "toc_section_display": true,
   "toc_window_display": false
  }
 },
 "nbformat": 4,
 "nbformat_minor": 5
}
