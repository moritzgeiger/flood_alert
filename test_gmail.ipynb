{
 "cells": [
  {
   "cell_type": "code",
   "execution_count": 93,
   "id": "71d90155",
   "metadata": {
    "ExecuteTime": {
     "end_time": "2022-04-09T11:37:02.020026Z",
     "start_time": "2022-04-09T11:37:02.012864Z"
    }
   },
   "outputs": [],
   "source": [
    "from __future__ import print_function\n",
    "\n",
    "import os.path\n",
    "\n",
    "from google.auth.transport.requests import Request\n",
    "from google.oauth2.credentials import Credentials\n",
    "from google.oauth2 import service_account\n",
    "from google_auth_oauthlib.flow import InstalledAppFlow\n",
    "from googleapiclient.discovery import build\n",
    "from googleapiclient.errors import HttpError\n",
    "import json\n",
    "from email.mime.multipart import MIMEMultipart\n",
    "from email.mime.text import MIMEText\n",
    "import base64\n",
    "# import errors"
   ]
  },
  {
   "cell_type": "code",
   "execution_count": 2,
   "id": "87fde99b",
   "metadata": {
    "ExecuteTime": {
     "end_time": "2022-04-09T10:57:11.806211Z",
     "start_time": "2022-04-09T10:57:11.791771Z"
    }
   },
   "outputs": [],
   "source": [
    "# If modifying these scopes, delete the file token.json.\n",
    "SCOPES = ['https://www.googleapis.com/auth/gmail.readonly']\n",
    "\n",
    "\n",
    "def main():\n",
    "    \"\"\"Shows basic usage of the Gmail API.\n",
    "    Lists the user's Gmail labels.\n",
    "    \"\"\"\n",
    "    creds = None\n",
    "    # The file token.json stores the user's access and refresh tokens, and is\n",
    "    # created automatically when the authorization flow completes for the first\n",
    "    # time.\n",
    "    if os.path.exists('token.json'):\n",
    "        creds = Credentials.from_authorized_user_file('token.json', SCOPES)\n",
    "    # If there are no (valid) credentials available, let the user log in.\n",
    "    if not creds or not creds.valid:\n",
    "        if creds and creds.expired and creds.refresh_token:\n",
    "            creds.refresh(Request())\n",
    "        else:\n",
    "            flow = InstalledAppFlow.from_client_secrets_file(\n",
    "                'credentials.json', SCOPES)\n",
    "            creds = flow.run_local_server(port=0)\n",
    "        # Save the credentials for the next run\n",
    "        with open('token.json', 'w') as token:\n",
    "            token.write(creds.to_json())\n",
    "\n",
    "    try:\n",
    "        # Call the Gmail API\n",
    "        service = build('gmail', 'v1', credentials=creds)\n",
    "        results = service.users().labels().list(userId='me').execute()\n",
    "        labels = results.get('labels', [])\n",
    "\n",
    "        if not labels:\n",
    "            print('No labels found.')\n",
    "            return\n",
    "        print('Labels:')\n",
    "        for label in labels:\n",
    "            print(label['name'])\n",
    "\n",
    "    except HttpError as error:\n",
    "        # TODO(developer) - Handle errors from gmail API.\n",
    "        print(f'An error occurred: {error}')\n",
    "\n"
   ]
  },
  {
   "cell_type": "code",
   "execution_count": 3,
   "id": "753401ec",
   "metadata": {
    "ExecuteTime": {
     "end_time": "2022-04-09T10:57:12.193955Z",
     "start_time": "2022-04-09T10:57:12.055119Z"
    }
   },
   "outputs": [],
   "source": [
    "! export redirect_uri=http://localhost:49737"
   ]
  },
  {
   "cell_type": "code",
   "execution_count": 5,
   "id": "2cde22a5",
   "metadata": {
    "ExecuteTime": {
     "end_time": "2022-04-09T11:09:20.020720Z",
     "start_time": "2022-04-09T11:09:20.017140Z"
    }
   },
   "outputs": [],
   "source": [
    "# main()"
   ]
  },
  {
   "cell_type": "code",
   "execution_count": null,
   "id": "269289d5",
   "metadata": {},
   "outputs": [],
   "source": []
  },
  {
   "cell_type": "markdown",
   "id": "992341ce",
   "metadata": {},
   "source": [
    "# credentials file"
   ]
  },
  {
   "cell_type": "code",
   "execution_count": 24,
   "id": "4e13621c",
   "metadata": {
    "ExecuteTime": {
     "end_time": "2022-04-09T11:13:54.497309Z",
     "start_time": "2022-04-09T11:13:54.490148Z"
    }
   },
   "outputs": [
    {
     "data": {
      "text/plain": [
       "{'web': {'client_id': '356899316631-q9ra8imf3kusqksfbt17s09i0dsqmec0.apps.googleusercontent.com',\n",
       "  'project_id': 'wagon-555-305810',\n",
       "  'auth_uri': 'https://accounts.google.com/o/oauth2/auth',\n",
       "  'token_uri': 'https://oauth2.googleapis.com/token',\n",
       "  'auth_provider_x509_cert_url': 'https://www.googleapis.com/oauth2/v1/certs',\n",
       "  'client_secret': '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'}}"
      ]
     },
     "execution_count": 24,
     "metadata": {},
     "output_type": "execute_result"
    }
   ],
   "source": [
    "json.load(open(SERVICE_ACCOUNT_FILE))"
   ]
  },
  {
   "cell_type": "code",
   "execution_count": 49,
   "id": "2cffeb1d",
   "metadata": {
    "ExecuteTime": {
     "end_time": "2022-04-09T11:22:56.568494Z",
     "start_time": "2022-04-09T11:22:56.563804Z"
    }
   },
   "outputs": [],
   "source": [
    "SERVICE_ACCOUNT_FILE = json.load(open('service_acc.json'))\n",
    "# SERVICE_ACCOUNT_FILE['client_email'] = 'moritz.georg.geiger@gmail.com'\n",
    "# SERVICE_ACCOUNT_FILE['private_key'] = '124'\n",
    "SCOPES = ['https://mail.google.com/']\n",
    "# SERVICE_ACCOUNT_FILE"
   ]
  },
  {
   "cell_type": "code",
   "execution_count": 50,
   "id": "4189694b",
   "metadata": {
    "ExecuteTime": {
     "end_time": "2022-04-09T11:22:56.776740Z",
     "start_time": "2022-04-09T11:22:56.765214Z"
    }
   },
   "outputs": [],
   "source": [
    "credentials = service_account.Credentials.from_service_account_info(\n",
    "    SERVICE_ACCOUNT_FILE, \n",
    "    scopes=SCOPES\n",
    ")\n",
    "\n",
    "delegated_credentials = credentials.with_subject(\"moritz.georg.geiger@gmail.com\")\n",
    "\n",
    "service = build(\n",
    "    'gmail', \n",
    "    'v1', \n",
    "    credentials=delegated_credentials, \n",
    "    cache_discovery=False\n",
    ")"
   ]
  },
  {
   "cell_type": "code",
   "execution_count": 51,
   "id": "05e95bcc",
   "metadata": {
    "ExecuteTime": {
     "end_time": "2022-04-09T11:22:57.280502Z",
     "start_time": "2022-04-09T11:22:56.965622Z"
    }
   },
   "outputs": [
    {
     "ename": "RefreshError",
     "evalue": "('unauthorized_client: Client is unauthorized to retrieve access tokens using this method, or client not authorized for any of the scopes requested.', {'error': 'unauthorized_client', 'error_description': 'Client is unauthorized to retrieve access tokens using this method, or client not authorized for any of the scopes requested.'})",
     "output_type": "error",
     "traceback": [
      "\u001b[0;31m---------------------------------------------------------------------------\u001b[0m",
      "\u001b[0;31mRefreshError\u001b[0m                              Traceback (most recent call last)",
      "Input \u001b[0;32mIn [51]\u001b[0m, in \u001b[0;36m<cell line: 1>\u001b[0;34m()\u001b[0m\n\u001b[0;32m----> 1\u001b[0m results \u001b[38;5;241m=\u001b[39m \u001b[43mservice\u001b[49m\u001b[38;5;241;43m.\u001b[39;49m\u001b[43musers\u001b[49m\u001b[43m(\u001b[49m\u001b[43m)\u001b[49m\u001b[38;5;241;43m.\u001b[39;49m\u001b[43mlabels\u001b[49m\u001b[43m(\u001b[49m\u001b[43m)\u001b[49m\u001b[38;5;241;43m.\u001b[39;49m\u001b[43mlist\u001b[49m\u001b[43m(\u001b[49m\u001b[43muserId\u001b[49m\u001b[38;5;241;43m=\u001b[39;49m\u001b[38;5;124;43m'\u001b[39;49m\u001b[38;5;124;43mme\u001b[39;49m\u001b[38;5;124;43m'\u001b[39;49m\u001b[43m)\u001b[49m\u001b[38;5;241;43m.\u001b[39;49m\u001b[43mexecute\u001b[49m\u001b[43m(\u001b[49m\u001b[43m)\u001b[49m\n\u001b[1;32m      2\u001b[0m \u001b[38;5;66;03m# labels = results.get('labels', [])\u001b[39;00m\n\u001b[1;32m      3\u001b[0m results\n",
      "File \u001b[0;32m~/code/moritzgeiger/flood_alert/env/lib/python3.9/site-packages/googleapiclient/_helpers.py:131\u001b[0m, in \u001b[0;36mpositional.<locals>.positional_decorator.<locals>.positional_wrapper\u001b[0;34m(*args, **kwargs)\u001b[0m\n\u001b[1;32m    129\u001b[0m     \u001b[38;5;28;01melif\u001b[39;00m positional_parameters_enforcement \u001b[38;5;241m==\u001b[39m POSITIONAL_WARNING:\n\u001b[1;32m    130\u001b[0m         logger\u001b[38;5;241m.\u001b[39mwarning(message)\n\u001b[0;32m--> 131\u001b[0m \u001b[38;5;28;01mreturn\u001b[39;00m \u001b[43mwrapped\u001b[49m\u001b[43m(\u001b[49m\u001b[38;5;241;43m*\u001b[39;49m\u001b[43margs\u001b[49m\u001b[43m,\u001b[49m\u001b[43m \u001b[49m\u001b[38;5;241;43m*\u001b[39;49m\u001b[38;5;241;43m*\u001b[39;49m\u001b[43mkwargs\u001b[49m\u001b[43m)\u001b[49m\n",
      "File \u001b[0;32m~/code/moritzgeiger/flood_alert/env/lib/python3.9/site-packages/googleapiclient/http.py:922\u001b[0m, in \u001b[0;36mHttpRequest.execute\u001b[0;34m(self, http, num_retries)\u001b[0m\n\u001b[1;32m    919\u001b[0m     \u001b[38;5;28mself\u001b[39m\u001b[38;5;241m.\u001b[39mheaders[\u001b[38;5;124m\"\u001b[39m\u001b[38;5;124mcontent-length\u001b[39m\u001b[38;5;124m\"\u001b[39m] \u001b[38;5;241m=\u001b[39m \u001b[38;5;28mstr\u001b[39m(\u001b[38;5;28mlen\u001b[39m(\u001b[38;5;28mself\u001b[39m\u001b[38;5;241m.\u001b[39mbody))\n\u001b[1;32m    921\u001b[0m \u001b[38;5;66;03m# Handle retries for server-side errors.\u001b[39;00m\n\u001b[0;32m--> 922\u001b[0m resp, content \u001b[38;5;241m=\u001b[39m \u001b[43m_retry_request\u001b[49m\u001b[43m(\u001b[49m\n\u001b[1;32m    923\u001b[0m \u001b[43m    \u001b[49m\u001b[43mhttp\u001b[49m\u001b[43m,\u001b[49m\n\u001b[1;32m    924\u001b[0m \u001b[43m    \u001b[49m\u001b[43mnum_retries\u001b[49m\u001b[43m,\u001b[49m\n\u001b[1;32m    925\u001b[0m \u001b[43m    \u001b[49m\u001b[38;5;124;43m\"\u001b[39;49m\u001b[38;5;124;43mrequest\u001b[39;49m\u001b[38;5;124;43m\"\u001b[39;49m\u001b[43m,\u001b[49m\n\u001b[1;32m    926\u001b[0m \u001b[43m    \u001b[49m\u001b[38;5;28;43mself\u001b[39;49m\u001b[38;5;241;43m.\u001b[39;49m\u001b[43m_sleep\u001b[49m\u001b[43m,\u001b[49m\n\u001b[1;32m    927\u001b[0m \u001b[43m    \u001b[49m\u001b[38;5;28;43mself\u001b[39;49m\u001b[38;5;241;43m.\u001b[39;49m\u001b[43m_rand\u001b[49m\u001b[43m,\u001b[49m\n\u001b[1;32m    928\u001b[0m \u001b[43m    \u001b[49m\u001b[38;5;28;43mstr\u001b[39;49m\u001b[43m(\u001b[49m\u001b[38;5;28;43mself\u001b[39;49m\u001b[38;5;241;43m.\u001b[39;49m\u001b[43muri\u001b[49m\u001b[43m)\u001b[49m\u001b[43m,\u001b[49m\n\u001b[1;32m    929\u001b[0m \u001b[43m    \u001b[49m\u001b[43mmethod\u001b[49m\u001b[38;5;241;43m=\u001b[39;49m\u001b[38;5;28;43mstr\u001b[39;49m\u001b[43m(\u001b[49m\u001b[38;5;28;43mself\u001b[39;49m\u001b[38;5;241;43m.\u001b[39;49m\u001b[43mmethod\u001b[49m\u001b[43m)\u001b[49m\u001b[43m,\u001b[49m\n\u001b[1;32m    930\u001b[0m \u001b[43m    \u001b[49m\u001b[43mbody\u001b[49m\u001b[38;5;241;43m=\u001b[39;49m\u001b[38;5;28;43mself\u001b[39;49m\u001b[38;5;241;43m.\u001b[39;49m\u001b[43mbody\u001b[49m\u001b[43m,\u001b[49m\n\u001b[1;32m    931\u001b[0m \u001b[43m    \u001b[49m\u001b[43mheaders\u001b[49m\u001b[38;5;241;43m=\u001b[39;49m\u001b[38;5;28;43mself\u001b[39;49m\u001b[38;5;241;43m.\u001b[39;49m\u001b[43mheaders\u001b[49m\u001b[43m,\u001b[49m\n\u001b[1;32m    932\u001b[0m \u001b[43m\u001b[49m\u001b[43m)\u001b[49m\n\u001b[1;32m    934\u001b[0m \u001b[38;5;28;01mfor\u001b[39;00m callback \u001b[38;5;129;01min\u001b[39;00m \u001b[38;5;28mself\u001b[39m\u001b[38;5;241m.\u001b[39mresponse_callbacks:\n\u001b[1;32m    935\u001b[0m     callback(resp)\n",
      "File \u001b[0;32m~/code/moritzgeiger/flood_alert/env/lib/python3.9/site-packages/googleapiclient/http.py:190\u001b[0m, in \u001b[0;36m_retry_request\u001b[0;34m(http, num_retries, req_type, sleep, rand, uri, method, *args, **kwargs)\u001b[0m\n\u001b[1;32m    188\u001b[0m \u001b[38;5;28;01mtry\u001b[39;00m:\n\u001b[1;32m    189\u001b[0m     exception \u001b[38;5;241m=\u001b[39m \u001b[38;5;28;01mNone\u001b[39;00m\n\u001b[0;32m--> 190\u001b[0m     resp, content \u001b[38;5;241m=\u001b[39m \u001b[43mhttp\u001b[49m\u001b[38;5;241;43m.\u001b[39;49m\u001b[43mrequest\u001b[49m\u001b[43m(\u001b[49m\u001b[43muri\u001b[49m\u001b[43m,\u001b[49m\u001b[43m \u001b[49m\u001b[43mmethod\u001b[49m\u001b[43m,\u001b[49m\u001b[43m \u001b[49m\u001b[38;5;241;43m*\u001b[39;49m\u001b[43margs\u001b[49m\u001b[43m,\u001b[49m\u001b[43m \u001b[49m\u001b[38;5;241;43m*\u001b[39;49m\u001b[38;5;241;43m*\u001b[39;49m\u001b[43mkwargs\u001b[49m\u001b[43m)\u001b[49m\n\u001b[1;32m    191\u001b[0m \u001b[38;5;66;03m# Retry on SSL errors and socket timeout errors.\u001b[39;00m\n\u001b[1;32m    192\u001b[0m \u001b[38;5;28;01mexcept\u001b[39;00m _ssl_SSLError \u001b[38;5;28;01mas\u001b[39;00m ssl_error:\n",
      "File \u001b[0;32m~/code/moritzgeiger/flood_alert/env/lib/python3.9/site-packages/google_auth_httplib2.py:209\u001b[0m, in \u001b[0;36mAuthorizedHttp.request\u001b[0;34m(self, uri, method, body, headers, redirections, connection_type, **kwargs)\u001b[0m\n\u001b[1;32m    205\u001b[0m \u001b[38;5;66;03m# Make a copy of the headers. They will be modified by the credentials\u001b[39;00m\n\u001b[1;32m    206\u001b[0m \u001b[38;5;66;03m# and we want to pass the original headers if we recurse.\u001b[39;00m\n\u001b[1;32m    207\u001b[0m request_headers \u001b[38;5;241m=\u001b[39m headers\u001b[38;5;241m.\u001b[39mcopy() \u001b[38;5;28;01mif\u001b[39;00m headers \u001b[38;5;129;01mis\u001b[39;00m \u001b[38;5;129;01mnot\u001b[39;00m \u001b[38;5;28;01mNone\u001b[39;00m \u001b[38;5;28;01melse\u001b[39;00m {}\n\u001b[0;32m--> 209\u001b[0m \u001b[38;5;28;43mself\u001b[39;49m\u001b[38;5;241;43m.\u001b[39;49m\u001b[43mcredentials\u001b[49m\u001b[38;5;241;43m.\u001b[39;49m\u001b[43mbefore_request\u001b[49m\u001b[43m(\u001b[49m\u001b[38;5;28;43mself\u001b[39;49m\u001b[38;5;241;43m.\u001b[39;49m\u001b[43m_request\u001b[49m\u001b[43m,\u001b[49m\u001b[43m \u001b[49m\u001b[43mmethod\u001b[49m\u001b[43m,\u001b[49m\u001b[43m \u001b[49m\u001b[43muri\u001b[49m\u001b[43m,\u001b[49m\u001b[43m \u001b[49m\u001b[43mrequest_headers\u001b[49m\u001b[43m)\u001b[49m\n\u001b[1;32m    211\u001b[0m \u001b[38;5;66;03m# Check if the body is a file-like stream, and if so, save the body\u001b[39;00m\n\u001b[1;32m    212\u001b[0m \u001b[38;5;66;03m# stream position so that it can be restored in case of refresh.\u001b[39;00m\n\u001b[1;32m    213\u001b[0m body_stream_position \u001b[38;5;241m=\u001b[39m \u001b[38;5;28;01mNone\u001b[39;00m\n",
      "File \u001b[0;32m~/code/moritzgeiger/flood_alert/env/lib/python3.9/site-packages/google/auth/credentials.py:133\u001b[0m, in \u001b[0;36mCredentials.before_request\u001b[0;34m(self, request, method, url, headers)\u001b[0m\n\u001b[1;32m    129\u001b[0m \u001b[38;5;66;03m# pylint: disable=unused-argument\u001b[39;00m\n\u001b[1;32m    130\u001b[0m \u001b[38;5;66;03m# (Subclasses may use these arguments to ascertain information about\u001b[39;00m\n\u001b[1;32m    131\u001b[0m \u001b[38;5;66;03m# the http request.)\u001b[39;00m\n\u001b[1;32m    132\u001b[0m \u001b[38;5;28;01mif\u001b[39;00m \u001b[38;5;129;01mnot\u001b[39;00m \u001b[38;5;28mself\u001b[39m\u001b[38;5;241m.\u001b[39mvalid:\n\u001b[0;32m--> 133\u001b[0m     \u001b[38;5;28;43mself\u001b[39;49m\u001b[38;5;241;43m.\u001b[39;49m\u001b[43mrefresh\u001b[49m\u001b[43m(\u001b[49m\u001b[43mrequest\u001b[49m\u001b[43m)\u001b[49m\n\u001b[1;32m    134\u001b[0m \u001b[38;5;28mself\u001b[39m\u001b[38;5;241m.\u001b[39mapply(headers)\n",
      "File \u001b[0;32m~/code/moritzgeiger/flood_alert/env/lib/python3.9/site-packages/google/oauth2/service_account.py:410\u001b[0m, in \u001b[0;36mCredentials.refresh\u001b[0;34m(self, request)\u001b[0m\n\u001b[1;32m    408\u001b[0m \u001b[38;5;28;01melse\u001b[39;00m:\n\u001b[1;32m    409\u001b[0m     assertion \u001b[38;5;241m=\u001b[39m \u001b[38;5;28mself\u001b[39m\u001b[38;5;241m.\u001b[39m_make_authorization_grant_assertion()\n\u001b[0;32m--> 410\u001b[0m     access_token, expiry, _ \u001b[38;5;241m=\u001b[39m \u001b[43m_client\u001b[49m\u001b[38;5;241;43m.\u001b[39;49m\u001b[43mjwt_grant\u001b[49m\u001b[43m(\u001b[49m\n\u001b[1;32m    411\u001b[0m \u001b[43m        \u001b[49m\u001b[43mrequest\u001b[49m\u001b[43m,\u001b[49m\u001b[43m \u001b[49m\u001b[38;5;28;43mself\u001b[39;49m\u001b[38;5;241;43m.\u001b[39;49m\u001b[43m_token_uri\u001b[49m\u001b[43m,\u001b[49m\u001b[43m \u001b[49m\u001b[43massertion\u001b[49m\n\u001b[1;32m    412\u001b[0m \u001b[43m    \u001b[49m\u001b[43m)\u001b[49m\n\u001b[1;32m    413\u001b[0m     \u001b[38;5;28mself\u001b[39m\u001b[38;5;241m.\u001b[39mtoken \u001b[38;5;241m=\u001b[39m access_token\n\u001b[1;32m    414\u001b[0m     \u001b[38;5;28mself\u001b[39m\u001b[38;5;241m.\u001b[39mexpiry \u001b[38;5;241m=\u001b[39m expiry\n",
      "File \u001b[0;32m~/code/moritzgeiger/flood_alert/env/lib/python3.9/site-packages/google/oauth2/_client.py:193\u001b[0m, in \u001b[0;36mjwt_grant\u001b[0;34m(request, token_uri, assertion)\u001b[0m\n\u001b[1;32m    170\u001b[0m \u001b[38;5;124;03m\"\"\"Implements the JWT Profile for OAuth 2.0 Authorization Grants.\u001b[39;00m\n\u001b[1;32m    171\u001b[0m \n\u001b[1;32m    172\u001b[0m \u001b[38;5;124;03mFor more details, see `rfc7523 section 4`_.\u001b[39;00m\n\u001b[0;32m   (...)\u001b[0m\n\u001b[1;32m    189\u001b[0m \u001b[38;5;124;03m.. _rfc7523 section 4: https://tools.ietf.org/html/rfc7523#section-4\u001b[39;00m\n\u001b[1;32m    190\u001b[0m \u001b[38;5;124;03m\"\"\"\u001b[39;00m\n\u001b[1;32m    191\u001b[0m body \u001b[38;5;241m=\u001b[39m {\u001b[38;5;124m\"\u001b[39m\u001b[38;5;124massertion\u001b[39m\u001b[38;5;124m\"\u001b[39m: assertion, \u001b[38;5;124m\"\u001b[39m\u001b[38;5;124mgrant_type\u001b[39m\u001b[38;5;124m\"\u001b[39m: _JWT_GRANT_TYPE}\n\u001b[0;32m--> 193\u001b[0m response_data \u001b[38;5;241m=\u001b[39m \u001b[43m_token_endpoint_request\u001b[49m\u001b[43m(\u001b[49m\u001b[43mrequest\u001b[49m\u001b[43m,\u001b[49m\u001b[43m \u001b[49m\u001b[43mtoken_uri\u001b[49m\u001b[43m,\u001b[49m\u001b[43m \u001b[49m\u001b[43mbody\u001b[49m\u001b[43m)\u001b[49m\n\u001b[1;32m    195\u001b[0m \u001b[38;5;28;01mtry\u001b[39;00m:\n\u001b[1;32m    196\u001b[0m     access_token \u001b[38;5;241m=\u001b[39m response_data[\u001b[38;5;124m\"\u001b[39m\u001b[38;5;124maccess_token\u001b[39m\u001b[38;5;124m\"\u001b[39m]\n",
      "File \u001b[0;32m~/code/moritzgeiger/flood_alert/env/lib/python3.9/site-packages/google/oauth2/_client.py:165\u001b[0m, in \u001b[0;36m_token_endpoint_request\u001b[0;34m(request, token_uri, body, access_token, use_json)\u001b[0m\n\u001b[1;32m    161\u001b[0m response_status_ok, response_data \u001b[38;5;241m=\u001b[39m _token_endpoint_request_no_throw(\n\u001b[1;32m    162\u001b[0m     request, token_uri, body, access_token\u001b[38;5;241m=\u001b[39maccess_token, use_json\u001b[38;5;241m=\u001b[39muse_json\n\u001b[1;32m    163\u001b[0m )\n\u001b[1;32m    164\u001b[0m \u001b[38;5;28;01mif\u001b[39;00m \u001b[38;5;129;01mnot\u001b[39;00m response_status_ok:\n\u001b[0;32m--> 165\u001b[0m     \u001b[43m_handle_error_response\u001b[49m\u001b[43m(\u001b[49m\u001b[43mresponse_data\u001b[49m\u001b[43m)\u001b[49m\n\u001b[1;32m    166\u001b[0m \u001b[38;5;28;01mreturn\u001b[39;00m response_data\n",
      "File \u001b[0;32m~/code/moritzgeiger/flood_alert/env/lib/python3.9/site-packages/google/oauth2/_client.py:60\u001b[0m, in \u001b[0;36m_handle_error_response\u001b[0;34m(response_data)\u001b[0m\n\u001b[1;32m     57\u001b[0m \u001b[38;5;28;01mexcept\u001b[39;00m (\u001b[38;5;167;01mKeyError\u001b[39;00m, \u001b[38;5;167;01mValueError\u001b[39;00m):\n\u001b[1;32m     58\u001b[0m     error_details \u001b[38;5;241m=\u001b[39m json\u001b[38;5;241m.\u001b[39mdumps(response_data)\n\u001b[0;32m---> 60\u001b[0m \u001b[38;5;28;01mraise\u001b[39;00m exceptions\u001b[38;5;241m.\u001b[39mRefreshError(error_details, response_data)\n",
      "\u001b[0;31mRefreshError\u001b[0m: ('unauthorized_client: Client is unauthorized to retrieve access tokens using this method, or client not authorized for any of the scopes requested.', {'error': 'unauthorized_client', 'error_description': 'Client is unauthorized to retrieve access tokens using this method, or client not authorized for any of the scopes requested.'})"
     ]
    }
   ],
   "source": [
    "results = service.users().labels().list(userId='me').execute()\n",
    "# labels = results.get('labels', [])\n",
    "results"
   ]
  },
  {
   "cell_type": "markdown",
   "id": "8b788ce2",
   "metadata": {},
   "source": [
    "# email"
   ]
  },
  {
   "cell_type": "code",
   "execution_count": 96,
   "id": "eff1c7ad",
   "metadata": {
    "ExecuteTime": {
     "end_time": "2022-04-09T11:38:01.794011Z",
     "start_time": "2022-04-09T11:38:01.787176Z"
    }
   },
   "outputs": [],
   "source": [
    "def create_message(sender, to, subject, message_text):\n",
    "    \"\"\"Create a message for an email.\n",
    "\n",
    "    Args:\n",
    "    sender: Email address of the sender.\n",
    "    to: Email address of the receiver.\n",
    "    subject: The subject of the email message.\n",
    "    message_text: The text of the email message.\n",
    "\n",
    "    Returns:\n",
    "    An object containing a base64url encoded email object.\n",
    "    \"\"\"\n",
    "    message = MIMEText(message_text)\n",
    "    message['to'] = to\n",
    "    message['from'] = sender\n",
    "    message['subject'] = subject\n",
    "    b64_bytes = base64.urlsafe_b64encode(message.as_bytes())\n",
    "    b64_string = b64_bytes.decode()\n",
    "    body = {'raw': b64_string}\n",
    "\n",
    "    return body\n"
   ]
  },
  {
   "cell_type": "code",
   "execution_count": 97,
   "id": "7d3a82bd",
   "metadata": {
    "ExecuteTime": {
     "end_time": "2022-04-09T11:38:02.212377Z",
     "start_time": "2022-04-09T11:38:02.205658Z"
    }
   },
   "outputs": [],
   "source": [
    "def send_message(service, user_id, message):\n",
    "    \"\"\"Send an email message.\n",
    "\n",
    "    Args:\n",
    "    service: Authorized Gmail API service instance.\n",
    "    user_id: User's email address. The special value \"me\"\n",
    "    can be used to indicate the authenticated user.\n",
    "    message: Message to be sent.\n",
    "\n",
    "    Returns:\n",
    "    Sent Message.\n",
    "    \"\"\"\n",
    "    try:\n",
    "        message = (service.users().messages().send(userId=user_id, body=message)\n",
    "                   .execute())\n",
    "        print('Message Id: %s' % message['id'])\n",
    "        return message\n",
    "    except Exception as error:\n",
    "        print('An error occurred: %s' % error)"
   ]
  },
  {
   "cell_type": "code",
   "execution_count": 98,
   "id": "6eb0f1e6",
   "metadata": {
    "ExecuteTime": {
     "end_time": "2022-04-09T11:38:02.848453Z",
     "start_time": "2022-04-09T11:38:02.671933Z"
    }
   },
   "outputs": [
    {
     "name": "stdout",
     "output_type": "stream",
     "text": [
      "An error occurred: ('unauthorized_client: Client is unauthorized to retrieve access tokens using this method, or client not authorized for any of the scopes requested.', {'error': 'unauthorized_client', 'error_description': 'Client is unauthorized to retrieve access tokens using this method, or client not authorized for any of the scopes requested.'})\n"
     ]
    }
   ],
   "source": [
    "sender = 'moritz.georg.geiger@gmail.com'\n",
    "to = 'moritzgeiger@hotmail.de'\n",
    "subject = 'test service acc'\n",
    "message_text = 'hierhallohier'\n",
    "user_id = 'moritz.georg.geiger@gmail.com'\n",
    "\n",
    "message = create_message(sender, to, subject, message_text)\n",
    "send_message(service, user_id, message)"
   ]
  },
  {
   "cell_type": "code",
   "execution_count": 99,
   "id": "ba2a7c88",
   "metadata": {
    "ExecuteTime": {
     "end_time": "2022-04-09T11:38:15.289861Z",
     "start_time": "2022-04-09T11:38:15.284800Z"
    }
   },
   "outputs": [
    {
     "data": {
      "text/plain": [
       "{'raw': 'Q29udGVudC1UeXBlOiB0ZXh0L3BsYWluOyBjaGFyc2V0PSJ1cy1hc2NpaSIKTUlNRS1WZXJzaW9uOiAxLjAKQ29udGVudC1UcmFuc2Zlci1FbmNvZGluZzogN2JpdAp0bzogbW9yaXR6Z2VpZ2VyQGhvdG1haWwuZGUKZnJvbTogbW9yaXR6Lmdlb3JnLmdlaWdlckBnbWFpbC5jb20Kc3ViamVjdDogdGVzdCBzZXJ2aWNlIGFjYwoKaGllcmhhbGxvaGllcg=='}"
      ]
     },
     "execution_count": 99,
     "metadata": {},
     "output_type": "execute_result"
    }
   ],
   "source": [
    "message"
   ]
  },
  {
   "cell_type": "code",
   "execution_count": null,
   "id": "e39fca76",
   "metadata": {},
   "outputs": [],
   "source": []
  }
 ],
 "metadata": {
  "kernelspec": {
   "display_name": "Python 3 (ipykernel)",
   "language": "python",
   "name": "python3"
  },
  "language_info": {
   "codemirror_mode": {
    "name": "ipython",
    "version": 3
   },
   "file_extension": ".py",
   "mimetype": "text/x-python",
   "name": "python",
   "nbconvert_exporter": "python",
   "pygments_lexer": "ipython3",
   "version": "3.9.0"
  },
  "toc": {
   "base_numbering": 1,
   "nav_menu": {},
   "number_sections": true,
   "sideBar": true,
   "skip_h1_title": false,
   "title_cell": "Table of Contents",
   "title_sidebar": "Contents",
   "toc_cell": false,
   "toc_position": {},
   "toc_section_display": true,
   "toc_window_display": false
  }
 },
 "nbformat": 4,
 "nbformat_minor": 5
}
